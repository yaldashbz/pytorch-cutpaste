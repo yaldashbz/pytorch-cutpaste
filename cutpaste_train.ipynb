{
 "cells": [
  {
   "cell_type": "markdown",
   "metadata": {},
   "source": [
    "# Setup"
   ]
  },
  {
   "cell_type": "code",
   "execution_count": null,
   "metadata": {},
   "outputs": [],
   "source": [
    "%pip install tensorflow tensorboard"
   ]
  },
  {
   "cell_type": "code",
   "execution_count": 61,
   "metadata": {},
   "outputs": [
    {
     "name": "stdout",
     "output_type": "stream",
     "text": [
      "Defaulting to user installation because normal site-packages is not writeable\n",
      "Collecting faiss-gpu\n",
      "  Downloading faiss_gpu-1.7.2-cp38-cp38-manylinux_2_17_x86_64.manylinux2014_x86_64.whl (85.5 MB)\n",
      "\u001b[K     |████████████████████████████████| 85.5 MB 6.0 MB/s eta 0:00:01\n",
      "\u001b[?25hInstalling collected packages: faiss-gpu\n",
      "Successfully installed faiss-gpu-1.7.2\n",
      "Note: you may need to restart the kernel to use updated packages.\n"
     ]
    }
   ],
   "source": [
    "%pip install faiss-gpu"
   ]
  },
  {
   "cell_type": "code",
   "execution_count": 41,
   "metadata": {},
   "outputs": [
    {
     "name": "stdout",
     "output_type": "stream",
     "text": [
      "Defaulting to user installation because normal site-packages is not writeable\n",
      "Collecting torchattacks\n",
      "  Downloading torchattacks-3.4.0-py3-none-any.whl (154 kB)\n",
      "\u001b[K     |████████████████████████████████| 154 kB 5.9 MB/s eta 0:00:01\n",
      "\u001b[?25hRequirement already satisfied: scipy>=0.14.0 in /opt/conda/lib/python3.8/site-packages (from torchattacks) (1.9.3)\n",
      "Requirement already satisfied: numpy>=1.19.4 in /opt/conda/lib/python3.8/site-packages (from torchattacks) (1.23.4)\n",
      "Requirement already satisfied: requests~=2.25.1 in /opt/conda/lib/python3.8/site-packages (from torchattacks) (2.25.1)\n",
      "Requirement already satisfied: torchvision>=0.8.2 in /opt/conda/lib/python3.8/site-packages (from torchattacks) (0.11.1+cu113)\n",
      "Requirement already satisfied: tqdm>=4.56.1 in /opt/conda/lib/python3.8/site-packages (from torchattacks) (4.64.1)\n",
      "Requirement already satisfied: torch>=1.7.1 in /opt/conda/lib/python3.8/site-packages (from torchattacks) (1.10.0+cu113)\n",
      "Requirement already satisfied: idna<3,>=2.5 in /opt/conda/lib/python3.8/site-packages (from requests~=2.25.1->torchattacks) (2.10)\n",
      "Requirement already satisfied: certifi>=2017.4.17 in /opt/conda/lib/python3.8/site-packages (from requests~=2.25.1->torchattacks) (2022.9.24)\n",
      "Requirement already satisfied: chardet<5,>=3.0.2 in /opt/conda/lib/python3.8/site-packages (from requests~=2.25.1->torchattacks) (4.0.0)\n",
      "Requirement already satisfied: urllib3<1.27,>=1.21.1 in /home/shabanza/.local/lib/python3.8/site-packages (from requests~=2.25.1->torchattacks) (1.26.16)\n",
      "Requirement already satisfied: typing-extensions in /opt/conda/lib/python3.8/site-packages (from torch>=1.7.1->torchattacks) (4.4.0)\n",
      "Requirement already satisfied: pillow!=8.3.0,>=5.3.0 in /opt/conda/lib/python3.8/site-packages (from torchvision>=0.8.2->torchattacks) (9.2.0)\n",
      "Installing collected packages: torchattacks\n",
      "Successfully installed torchattacks-3.4.0\n",
      "Note: you may need to restart the kernel to use updated packages.\n"
     ]
    }
   ],
   "source": [
    "%pip install torchattacks"
   ]
  },
  {
   "cell_type": "code",
   "execution_count": 1,
   "metadata": {},
   "outputs": [],
   "source": [
    "%load_ext autoreload\n",
    "%autoreload 2"
   ]
  },
  {
   "cell_type": "markdown",
   "metadata": {},
   "source": [
    "# Dataloader & Dataset Visualization"
   ]
  },
  {
   "cell_type": "code",
   "execution_count": 2,
   "metadata": {},
   "outputs": [],
   "source": [
    "import torch\n",
    "import matplotlib.pyplot as plt\n",
    "\n",
    "from copy import deepcopy\n",
    "from torchvision import transforms\n",
    "from torch.utils.data import DataLoader\n",
    "from dataset import MVTecAT, Repeat, CutPasteMVTecAD\n",
    "from cutpaste import CutPasteUnion, CutPaste3Way"
   ]
  },
  {
   "cell_type": "code",
   "execution_count": 3,
   "metadata": {},
   "outputs": [],
   "source": [
    "class Args:\n",
    "    def __init__(self) -> None:\n",
    "        self.min_scale = 1\n",
    "        self.size = 50\n",
    "        self.cutpate_type = CutPasteUnion\n",
    "        self.batch_size = 64\n",
    "        self.workers = 8\n",
    "        self.root_dir = '/sinergia/shabanza/datasets/mvtec'\n",
    "        self.head_layer = 2\n",
    "        self.data_type = 'grid'\n",
    "        self.learninig_rate = 0.03\n",
    "        self.epochs = 256\n",
    "        self.pretrained = True\n",
    "        self.freeze_net = 20\n",
    "        self.optim = 'sgd'\n",
    "\n",
    "\n",
    "args = Args()"
   ]
  },
  {
   "cell_type": "markdown",
   "metadata": {},
   "source": [
    "## DataLoaders"
   ]
  },
  {
   "cell_type": "markdown",
   "metadata": {},
   "source": [
    "- trainloader: Returns good + cutpaste Images ([0] is image (original or cutpaste), [1] is label)\n",
    "- testloader: Returns images (good or bad in real dataset) + labels (good / bad)"
   ]
  },
  {
   "cell_type": "code",
   "execution_count": 4,
   "metadata": {},
   "outputs": [],
   "source": [
    "from copy import deepcopy\n",
    "from typing import Tuple, List\n",
    "\n",
    "def get_ds_transforms(args) -> List[transforms.Compose]:\n",
    "    train_transform = transforms.Compose([\n",
    "        transforms.ColorJitter(brightness=0.1, contrast=0.1, saturation=0.1, hue=0.1),\n",
    "        transforms.Resize((args.size, args.size))\n",
    "    ])\n",
    "    \n",
    "    after_cutpaste_transform = transforms.Compose([\n",
    "        transforms.ToTensor(),\n",
    "        # transforms.Normalize(mean=[0.485, 0.456, 0.406], std=[0.229, 0.224, 0.225])\n",
    "    ])\n",
    "\n",
    "    train_cutpaste_transform = deepcopy(train_transform)\n",
    "    train_cutpaste_transform.transforms.append(args.cutpate_type(transform=after_cutpaste_transform))\n",
    "    train_transform.transforms.extend([\n",
    "        transforms.ToTensor(),\n",
    "        # transforms.Normalize(mean=[0.485, 0.456, 0.406], std=[0.229, 0.224, 0.225])\n",
    "    ])\n",
    "    \n",
    "    test_transform = transforms.Compose([\n",
    "        transforms.Resize((args.size, args.size)),\n",
    "        # transforms.CenterCrop(224),\n",
    "        transforms.ToTensor(),\n",
    "        # transforms.Normalize(mean=[0.485, 0.456, 0.406], std=[0.229, 0.224, 0.225])\n",
    "    ])\n",
    "    \n",
    "    return train_transform, train_cutpaste_transform, test_transform"
   ]
  },
  {
   "cell_type": "code",
   "execution_count": 5,
   "metadata": {},
   "outputs": [],
   "source": [
    "def get_dataloaders(args) -> List[DataLoader]:\n",
    "    size = int(args.size * (1/args.min_scale))\n",
    "    train_transform, train_cutpaste_transform, test_transform = get_ds_transforms(args)\n",
    "    train_ds_normal = MVTecAT(\n",
    "        args.root_dir, args.data_type, transform=train_transform, size=size, mode=\"train\"\n",
    "    )\n",
    "    train_ds_anomal = CutPasteMVTecAD(\n",
    "        args.root_dir, args.data_type, transform=train_cutpaste_transform, size=size, mode=\"train\"\n",
    "    )\n",
    "    train_ds = torch.utils.data.ConcatDataset([train_ds_normal, train_ds_anomal])\n",
    "\n",
    "    train_dataloader = DataLoader(\n",
    "        Repeat(train_ds, 3000), batch_size=args.batch_size, drop_last=True,\n",
    "        shuffle=True, num_workers=args.workers, persistent_workers=True, \n",
    "        pin_memory=True, prefetch_factor=5\n",
    "    )\n",
    "\n",
    "    train_dataloader_normal = DataLoader(\n",
    "        Repeat(train_ds_normal, 3000), batch_size=args.batch_size, drop_last=True,\n",
    "        shuffle=True, num_workers=args.workers, persistent_workers=True, \n",
    "        pin_memory=True, prefetch_factor=5\n",
    "    )\n",
    "    \n",
    "    test_ds = MVTecAT(\n",
    "        args.root_dir, args.data_type, args.size, transform=test_transform, mode=\"test\"\n",
    "    )\n",
    "    test_dataloader = DataLoader(test_ds, batch_size=args.batch_size, shuffle=False, num_workers=0)\n",
    "    \n",
    "    return train_dataloader, train_dataloader_normal, test_dataloader"
   ]
  },
  {
   "cell_type": "code",
   "execution_count": 6,
   "metadata": {},
   "outputs": [
    {
     "name": "stdout",
     "output_type": "stream",
     "text": [
      "loading images\n"
     ]
    },
    {
     "name": "stdout",
     "output_type": "stream",
     "text": [
      "loaded 264 images\n",
      "loading images\n",
      "loaded 264 images\n"
     ]
    }
   ],
   "source": [
    "train_dataloader, train_dataloader_normal, test_dataloader = get_dataloaders(args)"
   ]
  },
  {
   "cell_type": "markdown",
   "metadata": {},
   "source": [
    "## Visualize"
   ]
  },
  {
   "cell_type": "code",
   "execution_count": 7,
   "metadata": {},
   "outputs": [],
   "source": [
    "def visualize(sample_images, labels):\n",
    "    # Convert the tensor to numpy array\n",
    "    sample_images_np = sample_images.numpy()\n",
    "\n",
    "    # Reshape the tensor to [num_samples, 256, 256, 3] for visualization\n",
    "    sample_images_np = sample_images_np.transpose(0, 2, 3, 1)\n",
    "\n",
    "    _, axes = plt.subplots(1, sample_images_np.shape[0], figsize=(15, 3))\n",
    "    for i, ax in enumerate(axes):\n",
    "        ax.imshow(sample_images_np[i])\n",
    "        ax.set_title('anomal' if labels[i] else 'normal')\n",
    "        ax.axis('off')\n",
    "\n",
    "    plt.show()"
   ]
  },
  {
   "cell_type": "code",
   "execution_count": 8,
   "metadata": {},
   "outputs": [],
   "source": [
    "num_samples = 5\n",
    "sample_indices = torch.randperm(args.batch_size)[:num_samples]"
   ]
  },
  {
   "cell_type": "code",
   "execution_count": 9,
   "metadata": {},
   "outputs": [
    {
     "data": {
      "image/png": "[encoded data removed]",
      "text/plain": [
       "<Figure size 1500x300 with 5 Axes>"
      ]
     },
     "metadata": {},
     "output_type": "display_data"
    }
   ],
   "source": [
    "# visualize normal\n",
    "\n",
    "images, labels = next(iter(train_dataloader_normal))\n",
    "visualize(images[sample_indices], labels[sample_indices])"
   ]
  },
  {
   "cell_type": "code",
   "execution_count": 10,
   "metadata": {},
   "outputs": [
    {
     "data": {
      "image/png": "[encoded data removed]",
      "text/plain": [
       "<Figure size 1500x300 with 5 Axes>"
      ]
     },
     "metadata": {},
     "output_type": "display_data"
    }
   ],
   "source": [
    "# visualize normal + cutpaste\n",
    "\n",
    "images, labels = next(iter(train_dataloader))\n",
    "visualize(images[sample_indices], labels[sample_indices])"
   ]
  },
  {
   "cell_type": "code",
   "execution_count": 11,
   "metadata": {},
   "outputs": [
    {
     "data": {
      "image/png": "[encoded data removed]",
      "text/plain": [
       "<Figure size 1500x300 with 5 Axes>"
      ]
     },
     "metadata": {},
     "output_type": "display_data"
    }
   ],
   "source": [
    "# visualize test\n",
    "\n",
    "images, labels = next(iter(test_dataloader))\n",
    "visualize(images[sample_indices], labels[sample_indices])"
   ]
  },
  {
   "cell_type": "markdown",
   "metadata": {},
   "source": [
    "# Train"
   ]
  },
  {
   "cell_type": "code",
   "execution_count": 12,
   "metadata": {},
   "outputs": [],
   "source": [
    "import sys\n",
    "import datetime\n",
    "import numpy as np\n",
    "import torch.optim as optim\n",
    "from sklearn import metrics\n",
    "import time\n",
    "from torch.optim.lr_scheduler import CosineAnnealingWarmRestarts\n",
    "from model import ProjectionNet\n",
    "from utils import save_checkpoint, load_checkpoint"
   ]
  },
  {
   "cell_type": "code",
   "execution_count": 13,
   "metadata": {},
   "outputs": [],
   "source": [
    "def train(model, loader, loss_fn, optimizer, device):\n",
    "    \"\"\" training one epoch and calculate loss and metrics \"\"\"\n",
    "    # Training model\n",
    "    model.train()\n",
    "    losses = 0.0\n",
    "    steps = len(loader)\n",
    "    correct = 0.0\n",
    "    total = 0.0\n",
    "    which_class = 1\n",
    "    preds = []\n",
    "    targs = []\n",
    "    softmax = torch.nn.Softmax(dim=1)\n",
    "    for i, (inputs, targets) in enumerate(loader):\n",
    "        # Place to gpu\n",
    "        inputs = inputs.to(device)\n",
    "        targets = targets.to(torch.int64).to(device)\n",
    "\n",
    "        # Forward pass\n",
    "        outputs, _ = model(inputs)\n",
    "        \n",
    "        # Calculate loss\n",
    "        loss = loss_fn(outputs, targets)\n",
    "        losses += loss\n",
    "\n",
    "        # Backpropagation and update weights\n",
    "        optimizer.zero_grad()\n",
    "        loss.backward()\n",
    "        optimizer.step()\n",
    "\n",
    "\n",
    "        # Calculate metrics\n",
    "        _, predicted = outputs.max(1)\n",
    "        correct += predicted.eq(targets).sum().item()\n",
    "        total += targets.size(0)\n",
    "\n",
    "        probs = softmax(outputs).squeeze()\n",
    "        preds.append(probs[:, which_class].detach().cpu())\n",
    "        targs.append((targets.cpu()==which_class)*1.0)\n",
    "\n",
    "        # report\n",
    "        sys.stdout.flush()\n",
    "        sys.stdout.write('\\r Step: [%2d/%2d], loss: %.4f - acc: %.4f'\n",
    "                          % (i, steps, targets.size(0)*losses.item()/total, 100.0*correct/total))\n",
    "    sys.stdout.write ('\\r')\n",
    "\n",
    "    preds = torch.cat(preds).numpy()\n",
    "    targs = torch.cat(targs).numpy()\n",
    "    fpr, tpr, thresholds = metrics.roc_curve(targs, preds)\n",
    "    train_auc = metrics.auc(fpr, tpr)\n",
    "\n",
    "    return train_auc, losses.item()/total, 100.0*correct/total\n"
   ]
  },
  {
   "cell_type": "code",
   "execution_count": 20,
   "metadata": {},
   "outputs": [],
   "source": [
    "def build_model(args, device):\n",
    "    head_layers = [512]*args.head_layer+[128]\n",
    "    num_classes = 2 if args.cutpate_type is not CutPaste3Way else 3\n",
    "    model = ProjectionNet(pretrained=args.pretrained, head_layers=head_layers, num_classes=num_classes)\n",
    "    model.to(device)\n",
    "\n",
    "    if args.freeze_net > 0 and args.pretrained:\n",
    "        model.freeze_resnet()\n",
    "\n",
    "    return model"
   ]
  },
  {
   "cell_type": "code",
   "execution_count": 21,
   "metadata": {},
   "outputs": [],
   "source": [
    "device = 'cuda' if torch.cuda.is_available() else 'cpu'\n",
    "weight_decay = 0.00003\n",
    "momentum = 0.9\n",
    "\n",
    "\n",
    "model = build_model(args, device)\n",
    "loss_fn = torch.nn.CrossEntropyLoss()\n",
    "if args.optim == \"sgd\":\n",
    "    optimizer = optim.SGD(model.parameters(), lr=args.learninig_rate, momentum=momentum,  weight_decay=weight_decay)\n",
    "    scheduler = CosineAnnealingWarmRestarts(optimizer, args.epochs)\n",
    "elif args.optim == \"adam\":\n",
    "    optimizer = optim.Adam(model.parameters(), lr=args.learninig_rate, weight_decay=weight_decay)\n",
    "    scheduler = None"
   ]
  },
  {
   "cell_type": "markdown",
   "metadata": {},
   "source": [
    "# Evaluate"
   ]
  },
  {
   "cell_type": "code",
   "execution_count": 16,
   "metadata": {},
   "outputs": [],
   "source": [
    "import faiss\n",
    "from sklearn.metrics import roc_auc_score\n",
    "\n",
    "def knn_score(train_set, test_set, n_neighbours=2):\n",
    "    \"\"\"\n",
    "    Calculates the KNN distance\n",
    "    \"\"\"\n",
    "    index = faiss.IndexFlatL2(train_set.shape[1])\n",
    "    index.add(train_set)\n",
    "    D, _ = index.search(test_set, n_neighbours)\n",
    "    return np.sum(D, axis=1)\n",
    "\n",
    "\n",
    "def knn_evaluate(model, test_loader, train_loader_normal, loss_fn, device):\n",
    "    \"\"\" Evaluate trained weights using calculate loss and metrics \"\"\"\n",
    "    model.eval ()\n",
    "    softmax = torch.nn.Softmax(dim=1)\n",
    "    test_feature_space = []\n",
    "    test_labels = []\n",
    "    train_feature_space = []\n",
    "    with torch.no_grad ():\n",
    "        for inputs, targets in test_loader:\n",
    "            '''\n",
    "            activation = {}\n",
    "            def get_activation(name):\n",
    "                def hook(model, input, output):\n",
    "                    activation[name] = output.detach()\n",
    "                return hook\n",
    "            m.model.heads.head.register_forward_hook(get_activation('feature'))\n",
    "            '''\n",
    "            inputs = inputs.to(device)\n",
    "            targets = targets.to(torch.int64).to(device)\n",
    "            outputs, features = model(inputs)\n",
    "            test_feature_space.append(features)\n",
    "            test_labels.append(targets.detach().cpu())\n",
    "\n",
    "        for inputs, targets in train_loader_normal:\n",
    "            '''\n",
    "            activation = {}\n",
    "            def get_activation(name):\n",
    "                def hook(model, input, output):\n",
    "                    activation[name] = output.detach()\n",
    "                return hook\n",
    "            m.model.heads.head.register_forward_hook(get_activation('feature'))\n",
    "            '''\n",
    "            inputs = inputs.to(device)\n",
    "            targets = targets.to(torch.int64).to(device)\n",
    "            outputs, features = model(inputs)\n",
    "            train_feature_space.append(features)\n",
    "\n",
    "    test_labels = torch.cat(test_labels, dim=0).cpu().numpy()\n",
    "    test_feature_space = torch.cat(test_feature_space, dim=0).contiguous().cpu().numpy()\n",
    "    train_feature_space = torch.cat(train_feature_space, dim=0).contiguous().cpu().numpy()\n",
    "\n",
    "    distances = knn_score(train_feature_space, test_feature_space)\n",
    "    auc = roc_auc_score(test_labels, distances)\n",
    "    return auc, distances, test_labels"
   ]
  },
  {
   "cell_type": "code",
   "execution_count": 83,
   "metadata": {},
   "outputs": [],
   "source": [
    "def evaluate(model, loader, loss_fn, device, attack=False, adversary=None):\n",
    "    \"\"\" Evaluate trained weights using calculate loss and metrics \"\"\"\n",
    "    model.eval()\n",
    "    losses = 0.0\n",
    "    steps = len(loader)\n",
    "    correct = 0.0\n",
    "    total = 0.0\n",
    "    which_class = 1\n",
    "    preds = []\n",
    "    targs = []\n",
    "    softmax = torch.nn.Softmax(dim=1)\n",
    "\n",
    "    with torch.no_grad():\n",
    "        for inputs, targets in loader:\n",
    "            inputs = inputs.to(device)\n",
    "            targets = targets.to(torch.int64).to(device)\n",
    "    \n",
    "            if attack:\n",
    "                with torch.enable_grad():\n",
    "                    inputs = adversary(inputs, targets)\n",
    "                    torch.no_grad()\n",
    "\n",
    "            outputs, _ = model(inputs)\n",
    "            loss = loss_fn(outputs, targets)\n",
    "            losses += loss\n",
    "\n",
    "            _, predicted = outputs.max(1)\n",
    "            correct += predicted.eq(targets).sum().item()\n",
    "            total += targets.size(0)\n",
    "\n",
    "            probs = softmax(outputs).squeeze()\n",
    "            preds.append(probs[:, which_class].detach().cpu())\n",
    "            targs.append((targets.cpu()==which_class)*1.0)\n",
    "\n",
    "    preds = torch.cat(preds).numpy()\n",
    "    targs = torch.cat(targs).numpy()\n",
    "    fpr, tpr, thresholds = metrics.roc_curve(targs, preds)\n",
    "    eval_auc = metrics.auc(fpr, tpr)\n",
    "\n",
    "    return eval_auc, losses.item()/total, 100.0*correct/total, preds, targs"
   ]
  },
  {
   "cell_type": "markdown",
   "metadata": {},
   "source": [
    "# Attacks"
   ]
  },
  {
   "cell_type": "code",
   "execution_count": 93,
   "metadata": {},
   "outputs": [],
   "source": [
    "class CustomPGD:\n",
    "    def __init__(self, model, eps=8/255, alpha=2/255, steps=10, random_start=True):\n",
    "        self.model = model\n",
    "        self.eps = eps\n",
    "        self.alpha = alpha\n",
    "        self.steps = steps\n",
    "        self.random_start = random_start\n",
    "    \n",
    "    def __call__(self, images, labels):\n",
    "        return self.forward(images, labels)\n",
    "    \n",
    "    def forward(self, images, labels):\n",
    "        images = images.clone()\n",
    "        labels = labels.clone()\n",
    "        loss = torch.nn.CrossEntropyLoss()\n",
    "        adv_images = images.clone().detach()\n",
    "        \n",
    "        if self.random_start:\n",
    "            adv_images = adv_images + torch.empty_like(adv_images).uniform_(-self.eps, self.eps)\n",
    "            adv_images = torch.clamp(adv_images, min=0, max=1).detach()\n",
    "\n",
    "        for _ in range(self.steps):\n",
    "            adv_images.requires_grad = True\n",
    "            outputs, _ = model(adv_images)\n",
    "\n",
    "            # Calculate loss\n",
    "            cost = loss(outputs, labels)\n",
    "\n",
    "            # Update adversarial images\n",
    "            grad = torch.autograd.grad(cost, adv_images,\n",
    "                                       retain_graph=False, create_graph=False)[0]\n",
    "\n",
    "            adv_images = adv_images.detach() + self.alpha*grad.sign()\n",
    "            delta = torch.clamp(adv_images - images, min=-self.eps, max=self.eps)\n",
    "            adv_images = torch.clamp(images + delta, min=0, max=1).detach()\n",
    "        \n",
    "        return adv_images.clone()"
   ]
  },
  {
   "cell_type": "markdown",
   "metadata": {},
   "source": [
    "# Run"
   ]
  },
  {
   "cell_type": "code",
   "execution_count": 27,
   "metadata": {},
   "outputs": [],
   "source": [
    "def fit(model, train_dl, valid_dl, train_loader_normal, loss_fn, optimizer, num_epochs, device, scheduler=None, checkpoint_path=None):\n",
    "    \"\"\" fiting model to dataloaders, saving best weights and showing results \"\"\"\n",
    "    losses, val_losses, accs, val_accs, auces, val_auces, val_auces_knn, val_auces_msp_knn = [], [], [], [], [], [], [], []\n",
    "    best_auc = 0.0\n",
    "\n",
    "    since = time.time ()\n",
    "    for epoch in range (num_epochs):\n",
    "        if epoch == args.freeze_net:\n",
    "            model.unfreeze()\n",
    "        train_auc, loss, acc = train(model, train_dl, loss_fn, optimizer, device)\n",
    "        val_auc, val_loss, val_acc, preds, targs = evaluate(model, valid_dl, loss_fn, device)\n",
    "        val_auc_knn, distances, _ = knn_evaluate(model, valid_dl, train_loader_normal, loss_fn, device)\n",
    "\n",
    "        out = preds + (distances / np.linalg.norm(distances))\n",
    "        fpr, tpr, thresholds = metrics.roc_curve(targs, out)\n",
    "        msp_knn_auc = metrics.auc(fpr, tpr)\n",
    "\n",
    "        losses.append(loss)\n",
    "        accs.append(acc)\n",
    "        val_losses.append(val_loss)\n",
    "        val_accs.append(val_acc)\n",
    "        auces.append(train_auc)\n",
    "        val_auces.append(val_auc)\n",
    "        val_auces_knn.append(val_auc_knn)\n",
    "        val_auces_msp_knn.append(msp_knn_auc)\n",
    "\n",
    "        # learning rate scheduler\n",
    "        if scheduler is not None:\n",
    "            scheduler.step(val_auc)\n",
    "\n",
    "        # save weights if improved\n",
    "        if val_auc > best_auc:\n",
    "            checkpoint = {'state_dict': model.state_dict(), 'optimizer': optimizer.state_dict()}\n",
    "            save_checkpoint(checkpoint, checkpoint_path)\n",
    "            best_auc = val_auc\n",
    "\n",
    "        print ('Epoch [{}/{}], loss: {:.4f} - auc: {:.4f} |\\n val_loss: {:.4f} - val_acc: {:.4f} - val_auc_msp: {:.4f} - val_auc_knn: {:.4f} - val_auc_knn_msp: {:.4f}'\n",
    "               .format(epoch + 1, num_epochs, loss, train_auc, val_loss, val_acc, val_auc, val_auc_knn, msp_knn_auc))\n",
    "\n",
    "    period = time.time() - since\n",
    "    print('Training complete in {:.0f}m {:.0f}s'.format (period // 60, period % 60))\n",
    "\n",
    "    return dict(loss=losses, val_loss=val_losses, acc=accs, val_acc=val_accs, auces=auces, val_auces=val_auces, val_auces_knn=val_auces_knn, val_auces_msp_knn=val_auces_msp_knn)\n"
   ]
  },
  {
   "cell_type": "code",
   "execution_count": 28,
   "metadata": {},
   "outputs": [],
   "source": [
    "def plot_metrics(val_auc_knn, val_auc, val_auc_knn_msp):\n",
    "    \"\"\" ploting each of metric in one line \"\"\"\n",
    "\n",
    "    # fig, ax = plt.subplots (1, 1, figsize = (20, 5))\n",
    "    plt.plot(range(len(val_auc_knn)), val_auc_knn, 'b-', label='Val_AUC_KNN')\n",
    "    plt.plot(range(len(val_auc)), val_auc, 'r-', label='Val_AUC_MSP')\n",
    "    plt.plot(range(len(val_auc_knn_msp)), val_auc_knn_msp, 'g-', label='Val_AUC_KNN_MSP')\n",
    "    plt.title('AUC')\n",
    "    plt.legend()\n",
    "    plt.show()"
   ]
  },
  {
   "cell_type": "code",
   "execution_count": 29,
   "metadata": {},
   "outputs": [],
   "source": [
    "def run(args):\n",
    "    device = 'cuda' if torch.cuda.is_available() else 'cpu'\n",
    "    weight_decay = 0.00003\n",
    "    momentum = 0.9\n",
    "    train_dataloader, train_dataloader_normal, test_dataloader = get_dataloaders(args)\n",
    "    model = build_model(args, device)\n",
    "    loss_fn = torch.nn.CrossEntropyLoss()\n",
    "    if args.optim == \"sgd\":\n",
    "        optimizer = optim.SGD(model.parameters(), lr=args.learninig_rate, momentum=momentum,  weight_decay=weight_decay)\n",
    "        scheduler = CosineAnnealingWarmRestarts(optimizer, args.epochs)\n",
    "        #scheduler = None\n",
    "    elif args.optim == \"adam\":\n",
    "        optimizer = optim.Adam(model.parameters(), lr=args.learninig_rate, weight_decay=weight_decay)\n",
    "        scheduler = None\n",
    "    \n",
    "    history = fit(\n",
    "        model=model, \n",
    "        train_dl=train_dataloader, \n",
    "        valid_dl=test_dataloader, \n",
    "        train_loader_normal=train_dataloader_normal, \n",
    "        loss_fn=loss_fn, optimizer=optimizer, \n",
    "        num_epochs=args.epochs, device=device, \n",
    "        scheduler=scheduler,\n",
    "        checkpoint_path=f'../models/model_{args.data_type}' + '_{date:%Y-%m-%d_%H_%M_%S}.pth'.format(date=datetime.datetime.now())\n",
    "    )\n",
    "    plot_metrics(history[\"val_auces_knn\"], history[\"val_auces\"], history[\"val_auces_msp_knn\"])"
   ]
  },
  {
   "cell_type": "markdown",
   "metadata": {},
   "source": [
    "## Carpet"
   ]
  },
  {
   "cell_type": "code",
   "execution_count": 99,
   "metadata": {},
   "outputs": [
    {
     "name": "stdout",
     "output_type": "stream",
     "text": [
      "loading images\n"
     ]
    },
    {
     "name": "stdout",
     "output_type": "stream",
     "text": [
      "loaded 280 images\n",
      "loading images\n",
      "loaded 280 images\n",
      "=> saving checkpoint: 0.7353 - acc: 52.1060\n",
      "Epoch [1/100], loss: 0.0115 - auc: 0.5070 |\n",
      " val_loss: 0.0145 - val_acc: 23.9316 - val_auc_msp: 0.8070 - val_auc_knn: 0.6878 - val_auc_knn_msp: 0.8110\n",
      "Epoch [2/100], loss: 0.0109 - auc: 0.5589 |\n",
      " val_loss: 0.0974 - val_acc: 76.0684 - val_auc_msp: 0.5000 - val_auc_knn: 0.6738 - val_auc_knn_msp: 0.6738\n",
      "Epoch [3/100], loss: 0.0104 - auc: 0.6407 |\n",
      " val_loss: 0.0432 - val_acc: 76.0684 - val_auc_msp: 0.7135 - val_auc_knn: 0.5457 - val_auc_knn_msp: 0.5457\n",
      "=> saving checkpoint: 0.6242 - acc: 65.3872\n",
      "Epoch [4/100], loss: 0.0098 - auc: 0.6829 |\n",
      " val_loss: 0.0114 - val_acc: 76.0684 - val_auc_msp: 0.8170 - val_auc_knn: 0.8170 - val_auc_knn_msp: 0.8102\n",
      "Epoch [5/100], loss: 0.0093 - auc: 0.7210 |\n",
      " val_loss: 0.0124 - val_acc: 76.0684 - val_auc_msp: 0.7283 - val_auc_knn: 0.7235 - val_auc_knn_msp: 0.7283\n",
      "Epoch [6/100], loss: 0.0091 - auc: 0.7235 |\n",
      " val_loss: 0.0499 - val_acc: 76.0684 - val_auc_msp: 0.5441 - val_auc_knn: 0.5241 - val_auc_knn_msp: 0.5285\n",
      "Epoch [7/100], loss: 0.0088 - auc: 0.7513 |\n",
      " val_loss: 0.0092 - val_acc: 70.9402 - val_auc_msp: 0.7227 - val_auc_knn: 0.7500 - val_auc_knn_msp: 0.7239\n",
      "=> saving checkpoint: 0.5396 - acc: 72.5883\n",
      "Epoch [8/100], loss: 0.0084 - auc: 0.7696 |\n",
      " val_loss: 0.0084 - val_acc: 76.9231 - val_auc_msp: 0.8431 - val_auc_knn: 0.8262 - val_auc_knn_msp: 0.8439\n",
      "Epoch [9/100], loss: 0.0081 - auc: 0.7943 |\n",
      " val_loss: 0.0702 - val_acc: 76.0684 - val_auc_msp: 0.5152 - val_auc_knn: 0.7279 - val_auc_knn_msp: 0.7279\n",
      "=> saving checkpoint: 0.5302 - acc: 73.4715\n",
      "Epoch [10/100], loss: 0.0083 - auc: 0.7756 |\n",
      " val_loss: 0.0154 - val_acc: 38.4615 - val_auc_msp: 0.9434 - val_auc_knn: 0.7592 - val_auc_knn_msp: 0.9434\n",
      "Epoch [11/100], loss: 0.0073 - auc: 0.8258 |\n",
      " val_loss: 0.0848 - val_acc: 76.0684 - val_auc_msp: 0.5000 - val_auc_knn: 0.6814 - val_auc_knn_msp: 0.6814\n",
      "Epoch [12/100], loss: 0.0074 - auc: 0.8245 |\n",
      " val_loss: 0.0076 - val_acc: 74.3590 - val_auc_msp: 0.8768 - val_auc_knn: 0.8828 - val_auc_knn_msp: 0.8768\n",
      "Epoch [13/100], loss: 0.0070 - auc: 0.8450 |\n",
      " val_loss: 0.0100 - val_acc: 70.0855 - val_auc_msp: 0.7929 - val_auc_knn: 0.8892 - val_auc_knn_msp: 0.7941\n",
      "Epoch [14/100], loss: 0.0069 - auc: 0.8478 |\n",
      " val_loss: 0.0544 - val_acc: 76.0684 - val_auc_msp: 0.6104 - val_auc_knn: 0.7813 - val_auc_knn_msp: 0.7817\n",
      "=> saving checkpoint: 0.4716 - acc: 77.9212\n",
      "Epoch [15/100], loss: 0.0074 - auc: 0.8187 |\n",
      " val_loss: 0.0155 - val_acc: 59.8291 - val_auc_msp: 0.9635 - val_auc_knn: 0.8652 - val_auc_knn_msp: 0.9639\n",
      " Step: [ 7/46], loss: 0.3663 - acc: 84.3750"
     ]
    }
   ],
   "source": [
    "args.data_type = 'carpet'\n",
    "args.epochs = 100\n",
    "run(args)"
   ]
  },
  {
   "cell_type": "markdown",
   "metadata": {},
   "source": [
    "### Evaluate Standard"
   ]
  },
  {
   "cell_type": "code",
   "execution_count": null,
   "metadata": {},
   "outputs": [],
   "source": [
    "model = build_model(args, device)\n",
    "checkpoint_path = '../models/model_grid_2023-09-26_10_17_23.pth'\n",
    "load_checkpoint(checkpoint_path, model)"
   ]
  },
  {
   "cell_type": "code",
   "execution_count": null,
   "metadata": {},
   "outputs": [],
   "source": [
    "val_auc, val_loss, val_acc, preds, targs = evaluate(model, test_dataloader, loss_fn, device)\n",
    "\n",
    "print('Val AUC: ', val_auc)\n",
    "print('Val ACC: ', val_acc)\n",
    "print('Val Loss: ', val_loss)\n",
    "print(preds, targs)"
   ]
  },
  {
   "cell_type": "markdown",
   "metadata": {},
   "source": [
    "### Evaluate PGD Attack"
   ]
  },
  {
   "cell_type": "code",
   "execution_count": null,
   "metadata": {},
   "outputs": [],
   "source": [
    "adversary = CustomPGD(model, eps=8/255, alpha=1/255, steps=40, random_start=True)"
   ]
  },
  {
   "cell_type": "code",
   "execution_count": null,
   "metadata": {},
   "outputs": [],
   "source": [
    "val_auc, val_loss, val_acc, preds, targs = evaluate(model, test_dataloader, loss_fn, device, attack=True, adversary=adversary)\n",
    "\n",
    "print('Val AUC: ', val_auc)\n",
    "print('Val ACC: ', val_acc)\n",
    "print('Val Loss: ', val_loss)\n",
    "print(preds, targs)"
   ]
  },
  {
   "cell_type": "markdown",
   "metadata": {},
   "source": [
    "## Grid"
   ]
  },
  {
   "cell_type": "code",
   "execution_count": 32,
   "metadata": {},
   "outputs": [
    {
     "name": "stdout",
     "output_type": "stream",
     "text": [
      "loading images\n",
      "loaded 264 images\n",
      "loading images\n",
      "loaded 264 images\n",
      "=> saving checkpoint: 0.6036 - acc: 68.5462\n",
      "Epoch [1/100], loss: 0.0094 - auc: 0.7423 |\n",
      " val_loss: 0.0253 - val_acc: 43.5897 - val_auc_msp: 0.5831 - val_auc_knn: 0.6057 - val_auc_knn_msp: 0.6099\n",
      "=> saving checkpoint: 0.4928 - acc: 76.1889\n",
      "Epoch [2/100], loss: 0.0077 - auc: 0.8380 |\n",
      " val_loss: 0.0169 - val_acc: 58.9744 - val_auc_msp: 0.6199 - val_auc_knn: 0.5430 - val_auc_knn_msp: 0.6299\n",
      "=> saving checkpoint: 0.4545 - acc: 79.0761\n",
      "Epoch [3/100], loss: 0.0071 - auc: 0.8595 |\n",
      " val_loss: 0.0164 - val_acc: 61.5385 - val_auc_msp: 0.7519 - val_auc_knn: 0.5104 - val_auc_knn_msp: 0.7360\n",
      "Epoch [4/100], loss: 0.0068 - auc: 0.8736 |\n",
      " val_loss: 0.0173 - val_acc: 58.9744 - val_auc_msp: 0.7277 - val_auc_knn: 0.4887 - val_auc_knn_msp: 0.7093\n",
      "Epoch [5/100], loss: 0.0064 - auc: 0.8878 |\n",
      " val_loss: 0.0159 - val_acc: 67.9487 - val_auc_msp: 0.7210 - val_auc_knn: 0.5029 - val_auc_knn_msp: 0.7168\n",
      "Epoch [6/100], loss: 0.0063 - auc: 0.8923 |\n",
      " val_loss: 0.0172 - val_acc: 61.5385 - val_auc_msp: 0.7327 - val_auc_knn: 0.5004 - val_auc_knn_msp: 0.7360\n",
      "Epoch [7/100], loss: 0.0062 - auc: 0.8928 |\n",
      " val_loss: 0.0163 - val_acc: 64.1026 - val_auc_msp: 0.6825 - val_auc_knn: 0.5029 - val_auc_knn_msp: 0.6842\n",
      "Epoch [8/100], loss: 0.0060 - auc: 0.9019 |\n",
      " val_loss: 0.0195 - val_acc: 57.6923 - val_auc_msp: 0.7452 - val_auc_knn: 0.4996 - val_auc_knn_msp: 0.7352\n",
      "Epoch [9/100], loss: 0.0060 - auc: 0.9007 |\n",
      " val_loss: 0.0119 - val_acc: 74.3590 - val_auc_msp: 0.7277 - val_auc_knn: 0.5096 - val_auc_knn_msp: 0.7385\n",
      "Epoch [10/100], loss: 0.0059 - auc: 0.9047 |\n",
      " val_loss: 0.0113 - val_acc: 70.5128 - val_auc_msp: 0.7260 - val_auc_knn: 0.5096 - val_auc_knn_msp: 0.7226\n",
      "Epoch [11/100], loss: 0.0053 - auc: 0.9202 |\n",
      " val_loss: 0.0132 - val_acc: 69.2308 - val_auc_msp: 0.7460 - val_auc_knn: 0.4845 - val_auc_knn_msp: 0.7444\n",
      "=> saving checkpoint: 0.3521 - acc: 84.7486\n",
      "Epoch [12/100], loss: 0.0055 - auc: 0.9157 |\n",
      " val_loss: 0.0124 - val_acc: 73.0769 - val_auc_msp: 0.7794 - val_auc_knn: 0.5121 - val_auc_knn_msp: 0.7753\n",
      "Epoch [13/100], loss: 0.0056 - auc: 0.9160 |\n",
      " val_loss: 0.0129 - val_acc: 73.0769 - val_auc_msp: 0.7485 - val_auc_knn: 0.5071 - val_auc_knn_msp: 0.7427\n",
      "Epoch [14/100], loss: 0.0052 - auc: 0.9243 |\n",
      " val_loss: 0.0177 - val_acc: 64.1026 - val_auc_msp: 0.7168 - val_auc_knn: 0.5038 - val_auc_knn_msp: 0.7185\n",
      "Epoch [15/100], loss: 0.0055 - auc: 0.9164 |\n",
      " val_loss: 0.0147 - val_acc: 71.7949 - val_auc_msp: 0.7678 - val_auc_knn: 0.4879 - val_auc_knn_msp: 0.7678\n",
      "Epoch [16/100], loss: 0.0052 - auc: 0.9234 |\n",
      " val_loss: 0.0159 - val_acc: 69.2308 - val_auc_msp: 0.7310 - val_auc_knn: 0.5013 - val_auc_knn_msp: 0.7368\n",
      "=> saving checkpoint: 0.3206 - acc: 86.8546\n",
      "Epoch [17/100], loss: 0.0050 - auc: 0.9256 |\n",
      " val_loss: 0.0143 - val_acc: 73.0769 - val_auc_msp: 0.7811 - val_auc_knn: 0.5063 - val_auc_knn_msp: 0.7878\n",
      "=> saving checkpoint: 0.3214 - acc: 86.7188\n",
      "Epoch [18/100], loss: 0.0050 - auc: 0.9277 |\n",
      " val_loss: 0.0133 - val_acc: 73.0769 - val_auc_msp: 0.7920 - val_auc_knn: 0.5171 - val_auc_knn_msp: 0.7911\n",
      "Epoch [19/100], loss: 0.0054 - auc: 0.9160 |\n",
      " val_loss: 0.0141 - val_acc: 70.5128 - val_auc_msp: 0.7498 - val_auc_knn: 0.5138 - val_auc_knn_msp: 0.7519\n",
      "Epoch [20/100], loss: 0.0047 - auc: 0.9364 |\n",
      " val_loss: 0.0154 - val_acc: 70.5128 - val_auc_msp: 0.7703 - val_auc_knn: 0.5104 - val_auc_knn_msp: 0.7686\n",
      "Epoch [21/100], loss: 0.0123 - auc: 0.5257 |\n",
      " val_loss: 0.0246 - val_acc: 29.4872 - val_auc_msp: 0.6917 - val_auc_knn: 0.4219 - val_auc_knn_msp: 0.6416\n",
      "Epoch [22/100], loss: 0.0110 - auc: 0.5145 |\n",
      " val_loss: 0.0176 - val_acc: 69.2308 - val_auc_msp: 0.6591 - val_auc_knn: 0.6341 - val_auc_knn_msp: 0.6391\n",
      "Epoch [23/100], loss: 0.0108 - auc: 0.5223 |\n",
      " val_loss: 0.0175 - val_acc: 66.6667 - val_auc_msp: 0.6984 - val_auc_knn: 0.5756 - val_auc_knn_msp: 0.7160\n",
      "Epoch [24/100], loss: 0.0105 - auc: 0.6155 |\n",
      " val_loss: 0.0212 - val_acc: 44.8718 - val_auc_msp: 0.6917 - val_auc_knn: 0.5589 - val_auc_knn_msp: 0.6658\n",
      "Epoch [25/100], loss: 0.0068 - auc: 0.8767 |\n",
      " val_loss: 0.0169 - val_acc: 73.0769 - val_auc_msp: 0.3350 - val_auc_knn: 0.6495 - val_auc_knn_msp: 0.6391\n",
      "=> saving checkpoint: 0.1764 - acc: 93.7500\n",
      "Epoch [26/100], loss: 0.0028 - auc: 0.9739 |\n",
      " val_loss: 0.0079 - val_acc: 78.2051 - val_auc_msp: 0.9073 - val_auc_knn: 0.9407 - val_auc_knn_msp: 0.9123\n",
      "Epoch [27/100], loss: 0.0036 - auc: 0.9640 |\n",
      " val_loss: 0.0069 - val_acc: 78.2051 - val_auc_msp: 0.8897 - val_auc_knn: 0.5606 - val_auc_knn_msp: 0.8881\n",
      "Epoch [28/100], loss: 0.0022 - auc: 0.9821 |\n",
      " val_loss: 0.0214 - val_acc: 71.7949 - val_auc_msp: 0.6057 - val_auc_knn: 0.9073 - val_auc_knn_msp: 0.8672\n",
      "=> saving checkpoint: 0.0735 - acc: 98.0978\n",
      "Epoch [29/100], loss: 0.0011 - auc: 0.9930 |\n",
      " val_loss: 0.0109 - val_acc: 82.0513 - val_auc_msp: 0.9449 - val_auc_knn: 0.9332 - val_auc_knn_msp: 0.9415\n",
      "=> saving checkpoint: 0.0473 - acc: 98.8111\n",
      "Epoch [30/100], loss: 0.0007 - auc: 0.9955 |\n",
      " val_loss: 0.0066 - val_acc: 83.3333 - val_auc_msp: 0.9674 - val_auc_knn: 0.9833 - val_auc_knn_msp: 0.9674\n",
      "Epoch [31/100], loss: 0.0009 - auc: 0.9955 |\n",
      " val_loss: 0.0351 - val_acc: 66.6667 - val_auc_msp: 0.9499 - val_auc_knn: 0.9749 - val_auc_knn_msp: 0.9741\n",
      "=> saving checkpoint: 0.0472 - acc: 98.8791\n",
      "Epoch [32/100], loss: 0.0007 - auc: 0.9955 |\n",
      " val_loss: 0.0025 - val_acc: 92.3077 - val_auc_msp: 0.9925 - val_auc_knn: 0.9925 - val_auc_knn_msp: 0.9916\n",
      "=> saving checkpoint: 0.0267 - acc: 99.3886\n",
      "Epoch [33/100], loss: 0.0004 - auc: 0.9984 |\n",
      " val_loss: 0.0027 - val_acc: 89.7436 - val_auc_msp: 0.9992 - val_auc_knn: 1.0000 - val_auc_knn_msp: 0.9992\n",
      "Epoch [34/100], loss: 0.0010 - auc: 0.9937 |\n",
      " val_loss: 0.0048 - val_acc: 82.0513 - val_auc_msp: 0.9666 - val_auc_knn: 0.9616 - val_auc_knn_msp: 0.9666\n",
      "=> saving checkpoint: 0.0341 - acc: 99.08290\n",
      "Epoch [35/100], loss: 0.0005 - auc: 0.9972 |\n",
      " val_loss: 0.0011 - val_acc: 96.1538 - val_auc_msp: 1.0000 - val_auc_knn: 0.9950 - val_auc_knn_msp: 1.0000\n",
      "Epoch [36/100], loss: 0.0004 - auc: 0.9973 |\n",
      " val_loss: 0.0014 - val_acc: 97.4359 - val_auc_msp: 0.9942 - val_auc_knn: 0.9641 - val_auc_knn_msp: 0.9942\n",
      "Epoch [37/100], loss: 0.0004 - auc: 0.9983 |\n",
      " val_loss: 0.0029 - val_acc: 94.8718 - val_auc_msp: 1.0000 - val_auc_knn: 0.9992 - val_auc_knn_msp: 1.0000\n",
      "Epoch [38/100], loss: 0.0005 - auc: 0.9973 |\n",
      " val_loss: 0.0031 - val_acc: 92.3077 - val_auc_msp: 0.9975 - val_auc_knn: 0.9975 - val_auc_knn_msp: 0.9975\n",
      "Epoch [39/100], loss: 0.0002 - auc: 0.9995 |\n",
      " val_loss: 0.0017 - val_acc: 96.1538 - val_auc_msp: 1.0000 - val_auc_knn: 0.9992 - val_auc_knn_msp: 1.0000\n",
      "Epoch [40/100], loss: 0.0001 - auc: 0.9995 |\n",
      " val_loss: 0.0054 - val_acc: 93.5897 - val_auc_msp: 0.9749 - val_auc_knn: 0.9900 - val_auc_knn_msp: 0.9808\n",
      "Epoch [41/100], loss: 0.0004 - auc: 0.9983 |\n",
      " val_loss: 0.0165 - val_acc: 78.2051 - val_auc_msp: 0.9783 - val_auc_knn: 0.9825 - val_auc_knn_msp: 0.9825\n",
      "Epoch [42/100], loss: 0.0005 - auc: 0.9967 |\n",
      " val_loss: 0.0063 - val_acc: 87.1795 - val_auc_msp: 0.9181 - val_auc_knn: 0.9357 - val_auc_knn_msp: 0.9457\n",
      "Epoch [43/100], loss: 0.0004 - auc: 0.9986 |\n",
      " val_loss: 0.0031 - val_acc: 94.8718 - val_auc_msp: 0.9674 - val_auc_knn: 0.9908 - val_auc_knn_msp: 0.9674\n",
      "Epoch [44/100], loss: 0.0004 - auc: 0.9983 |\n",
      " val_loss: 0.0010 - val_acc: 97.4359 - val_auc_msp: 1.0000 - val_auc_knn: 1.0000 - val_auc_knn_msp: 1.0000\n",
      "Epoch [45/100], loss: 0.0002 - auc: 0.9991 |\n",
      " val_loss: 0.0029 - val_acc: 96.1538 - val_auc_msp: 0.9741 - val_auc_knn: 0.9983 - val_auc_knn_msp: 0.9766\n",
      "Epoch [46/100], loss: 0.0003 - auc: 0.9989 |\n",
      " val_loss: 0.0020 - val_acc: 96.1538 - val_auc_msp: 0.9975 - val_auc_knn: 1.0000 - val_auc_knn_msp: 0.9975\n",
      "Epoch [47/100], loss: 0.0003 - auc: 0.9987 |\n",
      " val_loss: 0.0034 - val_acc: 94.8718 - val_auc_msp: 1.0000 - val_auc_knn: 0.9992 - val_auc_knn_msp: 1.0000\n",
      "Epoch [48/100], loss: 0.0002 - auc: 0.9987 |\n",
      " val_loss: 0.0014 - val_acc: 93.5897 - val_auc_msp: 0.9967 - val_auc_knn: 0.9942 - val_auc_knn_msp: 0.9967\n",
      "Epoch [49/100], loss: 0.0003 - auc: 0.9989 |\n",
      " val_loss: 0.0052 - val_acc: 92.3077 - val_auc_msp: 0.9716 - val_auc_knn: 0.9774 - val_auc_knn_msp: 0.9741\n",
      "Epoch [50/100], loss: 0.0005 - auc: 0.9979 |\n",
      " val_loss: 0.0036 - val_acc: 92.3077 - val_auc_msp: 0.9975 - val_auc_knn: 0.9983 - val_auc_knn_msp: 0.9975\n",
      "Epoch [51/100], loss: 0.0004 - auc: 0.9972 |\n",
      " val_loss: 0.0067 - val_acc: 83.3333 - val_auc_msp: 0.8480 - val_auc_knn: 0.9265 - val_auc_knn_msp: 0.8546\n",
      "Epoch [52/100], loss: 0.0003 - auc: 0.9991 |\n",
      " val_loss: 0.0019 - val_acc: 94.8718 - val_auc_msp: 0.9967 - val_auc_knn: 0.9975 - val_auc_knn_msp: 0.9967\n",
      "Epoch [53/100], loss: 0.0002 - auc: 0.9987 |\n",
      " val_loss: 0.0022 - val_acc: 97.4359 - val_auc_msp: 0.9758 - val_auc_knn: 0.9967 - val_auc_knn_msp: 0.9808\n",
      "Epoch [54/100], loss: 0.0003 - auc: 0.9982 |\n",
      " val_loss: 0.0017 - val_acc: 96.1538 - val_auc_msp: 1.0000 - val_auc_knn: 0.9967 - val_auc_knn_msp: 1.0000\n",
      "Epoch [55/100], loss: 0.0004 - auc: 0.9981 |\n",
      " val_loss: 0.0104 - val_acc: 69.2308 - val_auc_msp: 0.8889 - val_auc_knn: 0.9674 - val_auc_knn_msp: 0.8889\n",
      "Epoch [56/100], loss: 0.0002 - auc: 0.9995 |\n",
      " val_loss: 0.0024 - val_acc: 97.4359 - val_auc_msp: 0.9783 - val_auc_knn: 0.9942 - val_auc_knn_msp: 0.9808\n",
      "Epoch [57/100], loss: 0.0002 - auc: 0.9992 |\n",
      " val_loss: 0.0006 - val_acc: 97.4359 - val_auc_msp: 0.9992 - val_auc_knn: 1.0000 - val_auc_knn_msp: 0.9992\n",
      "Epoch [58/100], loss: 0.0002 - auc: 0.9997 |\n",
      " val_loss: 0.0007 - val_acc: 98.7179 - val_auc_msp: 1.0000 - val_auc_knn: 1.0000 - val_auc_knn_msp: 1.0000\n",
      "Epoch [59/100], loss: 0.0002 - auc: 0.9993 |\n",
      " val_loss: 0.0008 - val_acc: 97.4359 - val_auc_msp: 1.0000 - val_auc_knn: 1.0000 - val_auc_knn_msp: 1.0000\n",
      "Epoch [60/100], loss: 0.0003 - auc: 0.9991 |\n",
      " val_loss: 0.0021 - val_acc: 96.1538 - val_auc_msp: 0.9992 - val_auc_knn: 0.9967 - val_auc_knn_msp: 0.9992\n",
      "Epoch [61/100], loss: 0.0003 - auc: 0.9985 |\n",
      " val_loss: 0.0023 - val_acc: 96.1538 - val_auc_msp: 0.9992 - val_auc_knn: 0.9975 - val_auc_knn_msp: 0.9992\n",
      "Epoch [62/100], loss: 0.0002 - auc: 0.9991 |\n",
      " val_loss: 0.0022 - val_acc: 97.4359 - val_auc_msp: 0.9983 - val_auc_knn: 1.0000 - val_auc_knn_msp: 1.0000\n",
      "Epoch [63/100], loss: 0.0002 - auc: 0.9993 |\n",
      " val_loss: 0.0021 - val_acc: 94.8718 - val_auc_msp: 0.9983 - val_auc_knn: 0.9992 - val_auc_knn_msp: 0.9983\n",
      "Epoch [64/100], loss: 0.0002 - auc: 0.9994 |\n",
      " val_loss: 0.0055 - val_acc: 93.5897 - val_auc_msp: 1.0000 - val_auc_knn: 1.0000 - val_auc_knn_msp: 1.0000\n",
      "Epoch [65/100], loss: 0.0003 - auc: 0.9985 |\n",
      " val_loss: 0.0005 - val_acc: 98.7179 - val_auc_msp: 1.0000 - val_auc_knn: 1.0000 - val_auc_knn_msp: 1.0000\n",
      "Epoch [66/100], loss: 0.0001 - auc: 1.0000 |\n",
      " val_loss: 0.0012 - val_acc: 97.4359 - val_auc_msp: 1.0000 - val_auc_knn: 1.0000 - val_auc_knn_msp: 1.0000\n",
      "Epoch [67/100], loss: 0.0002 - auc: 0.9991 |\n",
      " val_loss: 0.0007 - val_acc: 98.7179 - val_auc_msp: 1.0000 - val_auc_knn: 1.0000 - val_auc_knn_msp: 1.0000\n",
      "Epoch [68/100], loss: 0.0006 - auc: 0.9974 |\n",
      " val_loss: 0.0039 - val_acc: 93.5897 - val_auc_msp: 0.9933 - val_auc_knn: 0.9883 - val_auc_knn_msp: 0.9942\n",
      "Epoch [69/100], loss: 0.0004 - auc: 0.9983 |\n",
      " val_loss: 0.0015 - val_acc: 94.8718 - val_auc_msp: 0.9992 - val_auc_knn: 0.9983 - val_auc_knn_msp: 0.9992\n",
      "Epoch [70/100], loss: 0.0002 - auc: 0.9991 |\n",
      " val_loss: 0.0031 - val_acc: 94.8718 - val_auc_msp: 0.9975 - val_auc_knn: 0.9950 - val_auc_knn_msp: 0.9975\n",
      "Epoch [71/100], loss: 0.0001 - auc: 0.9999 |\n",
      " val_loss: 0.0034 - val_acc: 96.1538 - val_auc_msp: 0.9975 - val_auc_knn: 0.9958 - val_auc_knn_msp: 0.9983\n",
      "Epoch [72/100], loss: 0.0002 - auc: 0.9997 |\n",
      " val_loss: 0.0016 - val_acc: 96.1538 - val_auc_msp: 0.9975 - val_auc_knn: 0.9983 - val_auc_knn_msp: 0.9983\n",
      "Epoch [73/100], loss: 0.0003 - auc: 0.9982 |\n",
      " val_loss: 0.0009 - val_acc: 96.1538 - val_auc_msp: 1.0000 - val_auc_knn: 1.0000 - val_auc_knn_msp: 1.0000\n",
      "Epoch [74/100], loss: 0.0001 - auc: 0.9994 |\n",
      " val_loss: 0.0097 - val_acc: 91.0256 - val_auc_msp: 0.9624 - val_auc_knn: 0.9958 - val_auc_knn_msp: 0.9808\n",
      "Epoch [75/100], loss: 0.0003 - auc: 0.9986 |\n",
      " val_loss: 0.0011 - val_acc: 97.4359 - val_auc_msp: 0.9967 - val_auc_knn: 0.9975 - val_auc_knn_msp: 0.9967\n",
      "Epoch [76/100], loss: 0.0002 - auc: 0.9995 |\n",
      " val_loss: 0.0060 - val_acc: 91.0256 - val_auc_msp: 0.9841 - val_auc_knn: 0.9875 - val_auc_knn_msp: 0.9841\n",
      "Epoch [77/100], loss: 0.0004 - auc: 0.9975 |\n",
      " val_loss: 0.0035 - val_acc: 93.5897 - val_auc_msp: 0.9749 - val_auc_knn: 0.9950 - val_auc_knn_msp: 0.9749\n",
      "Epoch [78/100], loss: 0.0003 - auc: 0.9983 |\n",
      " val_loss: 0.0008 - val_acc: 98.7179 - val_auc_msp: 0.9992 - val_auc_knn: 0.9992 - val_auc_knn_msp: 0.9992\n",
      "Epoch [79/100], loss: 0.0002 - auc: 0.9997 |\n",
      " val_loss: 0.0011 - val_acc: 97.4359 - val_auc_msp: 0.9992 - val_auc_knn: 0.9983 - val_auc_knn_msp: 0.9992\n",
      "Epoch [80/100], loss: 0.0002 - auc: 0.9993 |\n",
      " val_loss: 0.0256 - val_acc: 78.2051 - val_auc_msp: 0.9549 - val_auc_knn: 0.9766 - val_auc_knn_msp: 0.9683\n",
      "Epoch [81/100], loss: 0.0002 - auc: 0.9987 |\n",
      " val_loss: 0.0003 - val_acc: 100.0000 - val_auc_msp: 1.0000 - val_auc_knn: 1.0000 - val_auc_knn_msp: 1.0000\n",
      "Epoch [82/100], loss: 0.0005 - auc: 0.9971 |\n",
      " val_loss: 0.0012 - val_acc: 97.4359 - val_auc_msp: 0.9942 - val_auc_knn: 0.9942 - val_auc_knn_msp: 0.9950\n",
      "Epoch [83/100], loss: 0.0001 - auc: 0.9995 |\n",
      " val_loss: 0.0004 - val_acc: 98.7179 - val_auc_msp: 1.0000 - val_auc_knn: 0.9992 - val_auc_knn_msp: 1.0000\n",
      "Epoch [84/100], loss: 0.0002 - auc: 0.9994 |\n",
      " val_loss: 0.0007 - val_acc: 98.7179 - val_auc_msp: 1.0000 - val_auc_knn: 1.0000 - val_auc_knn_msp: 1.0000\n",
      "Epoch [85/100], loss: 0.0003 - auc: 0.9994 |\n",
      " val_loss: 0.0014 - val_acc: 97.4359 - val_auc_msp: 0.9958 - val_auc_knn: 0.9983 - val_auc_knn_msp: 0.9967\n",
      "Epoch [86/100], loss: 0.0003 - auc: 0.9988 |\n",
      " val_loss: 0.0007 - val_acc: 98.7179 - val_auc_msp: 0.9992 - val_auc_knn: 0.9983 - val_auc_knn_msp: 0.9992\n",
      "Epoch [87/100], loss: 0.0002 - auc: 0.9988 |\n",
      " val_loss: 0.0031 - val_acc: 91.0256 - val_auc_msp: 0.9983 - val_auc_knn: 0.9967 - val_auc_knn_msp: 0.9983\n",
      "Epoch [88/100], loss: 0.0002 - auc: 0.9994 |\n",
      " val_loss: 0.0004 - val_acc: 98.7179 - val_auc_msp: 1.0000 - val_auc_knn: 0.9975 - val_auc_knn_msp: 1.0000\n",
      "Epoch [89/100], loss: 0.0003 - auc: 0.9990 |\n",
      " val_loss: 0.0025 - val_acc: 96.1538 - val_auc_msp: 0.9950 - val_auc_knn: 0.9925 - val_auc_knn_msp: 0.9950\n",
      "Epoch [90/100], loss: 0.0002 - auc: 0.9989 |\n",
      " val_loss: 0.0012 - val_acc: 97.4359 - val_auc_msp: 1.0000 - val_auc_knn: 1.0000 - val_auc_knn_msp: 1.0000\n",
      "Epoch [91/100], loss: 0.0002 - auc: 0.9989 |\n",
      " val_loss: 0.0024 - val_acc: 96.1538 - val_auc_msp: 0.9992 - val_auc_knn: 1.0000 - val_auc_knn_msp: 0.9992\n",
      "Epoch [92/100], loss: 0.0003 - auc: 0.9990 |\n",
      " val_loss: 0.0007 - val_acc: 96.1538 - val_auc_msp: 1.0000 - val_auc_knn: 0.9992 - val_auc_knn_msp: 1.0000\n",
      "Epoch [93/100], loss: 0.0001 - auc: 0.9992 |\n",
      " val_loss: 0.0007 - val_acc: 97.4359 - val_auc_msp: 1.0000 - val_auc_knn: 1.0000 - val_auc_knn_msp: 1.0000\n",
      "Epoch [94/100], loss: 0.0002 - auc: 0.9996 |\n",
      " val_loss: 0.0019 - val_acc: 96.1538 - val_auc_msp: 0.9975 - val_auc_knn: 1.0000 - val_auc_knn_msp: 0.9975\n",
      "Epoch [95/100], loss: 0.0003 - auc: 0.9986 |\n",
      " val_loss: 0.0013 - val_acc: 94.8718 - val_auc_msp: 1.0000 - val_auc_knn: 1.0000 - val_auc_knn_msp: 1.0000\n",
      "Epoch [96/100], loss: 0.0002 - auc: 0.9995 |\n",
      " val_loss: 0.0003 - val_acc: 100.0000 - val_auc_msp: 1.0000 - val_auc_knn: 1.0000 - val_auc_knn_msp: 1.0000\n",
      "Epoch [97/100], loss: 0.0001 - auc: 1.0000 |\n",
      " val_loss: 0.0002 - val_acc: 100.0000 - val_auc_msp: 1.0000 - val_auc_knn: 1.0000 - val_auc_knn_msp: 1.0000\n",
      "Epoch [98/100], loss: 0.0002 - auc: 0.9996 |\n",
      " val_loss: 0.0046 - val_acc: 93.5897 - val_auc_msp: 1.0000 - val_auc_knn: 1.0000 - val_auc_knn_msp: 1.0000\n",
      "Epoch [99/100], loss: 0.0002 - auc: 0.9999 |\n",
      " val_loss: 0.0019 - val_acc: 97.4359 - val_auc_msp: 1.0000 - val_auc_knn: 0.9883 - val_auc_knn_msp: 1.0000\n",
      "Epoch [100/100], loss: 0.0001 - auc: 0.9993 |\n",
      " val_loss: 0.0015 - val_acc: 97.4359 - val_auc_msp: 1.0000 - val_auc_knn: 1.0000 - val_auc_knn_msp: 1.0000\n",
      "Training complete in 27m 18s\n"
     ]
    },
    {
     "data": {
      "image/png": "[encoded data removed]",
      "text/plain": [
       "<Figure size 640x480 with 1 Axes>"
      ]
     },
     "metadata": {},
     "output_type": "display_data"
    }
   ],
   "source": [
    "args.data_type = 'grid'\n",
    "args.epochs = 100\n",
    "run(args)"
   ]
  },
  {
   "cell_type": "markdown",
   "metadata": {},
   "source": [
    "### Evaluate Standard"
   ]
  },
  {
   "cell_type": "code",
   "execution_count": 94,
   "metadata": {},
   "outputs": [
    {
     "name": "stdout",
     "output_type": "stream",
     "text": [
      "=> loading checkpoint\n"
     ]
    }
   ],
   "source": [
    "model = build_model(args, device)\n",
    "checkpoint_path = '../models/model_grid_2023-09-26_10_17_23.pth'\n",
    "load_checkpoint(checkpoint_path, model)"
   ]
  },
  {
   "cell_type": "code",
   "execution_count": 95,
   "metadata": {},
   "outputs": [
    {
     "name": "stdout",
     "output_type": "stream",
     "text": [
      "Val AUC:  1.0\n",
      "Val ACC:  96.15384615384616\n",
      "Val Loss:  0.0010809028186859228\n",
      "[9.8301202e-01 9.7850364e-01 9.5409769e-01 9.8446447e-01 9.9794871e-01\n",
      " 9.9886703e-01 9.9790502e-01 9.9797744e-01 9.8364139e-01 9.9751222e-01\n",
      " 9.9867201e-01 9.9930799e-01 9.9602282e-01 9.9969018e-01 8.8897544e-01\n",
      " 9.9949658e-01 9.9296582e-01 9.9472344e-01 9.8241502e-01 9.9061489e-01\n",
      " 9.1750067e-01 9.9923337e-01 9.9867141e-01 9.9825484e-01 1.5677692e-01\n",
      " 9.8485881e-01 9.7103935e-01 3.4951249e-01 9.8965198e-01 9.9298602e-01\n",
      " 9.5299196e-01 9.5084357e-01 3.8053879e-01 9.9337363e-01 9.0279299e-01\n",
      " 2.5989320e-02 7.9117641e-02 2.6061994e-03 6.6337613e-03 3.5417065e-02\n",
      " 5.6401808e-02 1.1838594e-01 4.0626351e-02 2.2198563e-02 5.5153412e-03\n",
      " 6.5718986e-02 3.6436949e-02 1.5120022e-03 9.9421153e-03 2.9650214e-03\n",
      " 7.8297146e-02 9.2594401e-04 4.0913597e-02 1.5482425e-02 1.0406556e-02\n",
      " 1.1876644e-01 9.9931228e-01 9.9777240e-01 9.9944359e-01 9.9945527e-01\n",
      " 9.9942625e-01 9.9943596e-01 9.9879634e-01 9.9921536e-01 9.9919885e-01\n",
      " 9.9929929e-01 9.9716765e-01 9.9513334e-01 9.9920458e-01 9.9957341e-01\n",
      " 9.9949634e-01 9.9967420e-01 9.9937856e-01 9.9949849e-01 9.9974519e-01\n",
      " 9.9969995e-01 9.9967766e-01 9.9944788e-01] [1. 1. 1. 1. 1. 1. 1. 1. 1. 1. 1. 1. 1. 1. 1. 1. 1. 1. 1. 1. 1. 1. 1. 1.\n",
      " 1. 1. 1. 1. 1. 1. 1. 1. 1. 1. 1. 0. 0. 0. 0. 0. 0. 0. 0. 0. 0. 0. 0. 0.\n",
      " 0. 0. 0. 0. 0. 0. 0. 0. 1. 1. 1. 1. 1. 1. 1. 1. 1. 1. 1. 1. 1. 1. 1. 1.\n",
      " 1. 1. 1. 1. 1. 1.]\n"
     ]
    }
   ],
   "source": [
    "val_auc, val_loss, val_acc, preds, targs = evaluate(model, test_dataloader, loss_fn, device)\n",
    "\n",
    "print('Val AUC: ', val_auc)\n",
    "print('Val ACC: ', val_acc)\n",
    "print('Val Loss: ', val_loss)\n",
    "print(preds, targs)"
   ]
  },
  {
   "cell_type": "markdown",
   "metadata": {},
   "source": [
    "### Evaluate PGD Attack"
   ]
  },
  {
   "cell_type": "code",
   "execution_count": 96,
   "metadata": {},
   "outputs": [],
   "source": [
    "adversary = CustomPGD(model, eps=8/255, alpha=1/255, steps=40, random_start=True)"
   ]
  },
  {
   "cell_type": "code",
   "execution_count": 97,
   "metadata": {},
   "outputs": [
    {
     "name": "stdout",
     "output_type": "stream",
     "text": [
      "Val AUC:  0.0\n",
      "Val ACC:  8.974358974358974\n",
      "Val Loss:  0.12007681528727214\n",
      "[8.15638399e-04 5.65028895e-05 8.59535474e-04 2.67337472e-03\n",
      " 5.06016950e-04 3.85880208e-04 4.36926167e-03 2.79667485e-03\n",
      " 7.93484869e-05 4.51133383e-05 2.01477553e-03 3.30028217e-03\n",
      " 4.69657499e-03 1.22473486e-01 9.36346245e-04 2.55705277e-03\n",
      " 2.06297540e-04 2.16672910e-04 1.23445038e-03 8.54450336e-05\n",
      " 8.83288667e-05 6.44114148e-03 1.81057106e-03 5.91928186e-03\n",
      " 5.03253716e-04 6.28196140e-05 9.85816005e-05 1.11560279e-04\n",
      " 1.78608854e-04 8.64803093e-04 1.37806725e-04 1.34754955e-04\n",
      " 5.59673754e-05 3.95836978e-04 2.70014600e-04 9.99865770e-01\n",
      " 9.99904394e-01 9.99903321e-01 9.99875546e-01 9.99907970e-01\n",
      " 9.99893665e-01 9.99932528e-01 9.99900103e-01 9.99906063e-01\n",
      " 9.99922514e-01 9.99909639e-01 9.99897957e-01 9.99897718e-01\n",
      " 9.99899268e-01 9.99922156e-01 9.99909520e-01 9.99903798e-01\n",
      " 9.99923706e-01 9.99882817e-01 9.99907494e-01 9.99879599e-01\n",
      " 1.33012280e-01 4.19255905e-03 4.41587605e-02 3.58890295e-01\n",
      " 9.13672805e-01 1.25962198e-01 3.20311934e-02 1.00494409e-02\n",
      " 5.51518798e-02 1.34779997e-02 7.43685430e-03 1.46868853e-02\n",
      " 1.46513119e-01 1.31885573e-01 1.35174077e-02 9.76977468e-01\n",
      " 9.97777402e-01 9.87253249e-01 2.95226604e-01 5.03397048e-01\n",
      " 9.94346559e-01 9.97951329e-01] [1. 1. 1. 1. 1. 1. 1. 1. 1. 1. 1. 1. 1. 1. 1. 1. 1. 1. 1. 1. 1. 1. 1. 1.\n",
      " 1. 1. 1. 1. 1. 1. 1. 1. 1. 1. 1. 0. 0. 0. 0. 0. 0. 0. 0. 0. 0. 0. 0. 0.\n",
      " 0. 0. 0. 0. 0. 0. 0. 0. 1. 1. 1. 1. 1. 1. 1. 1. 1. 1. 1. 1. 1. 1. 1. 1.\n",
      " 1. 1. 1. 1. 1. 1.]\n"
     ]
    }
   ],
   "source": [
    "val_auc, val_loss, val_acc, preds, targs = evaluate(model, test_dataloader, loss_fn, device, attack=True, adversary=adversary)\n",
    "\n",
    "print('Val AUC: ', val_auc)\n",
    "print('Val ACC: ', val_acc)\n",
    "print('Val Loss: ', val_loss)\n",
    "print(preds, targs)"
   ]
  },
  {
   "cell_type": "markdown",
   "metadata": {},
   "source": [
    "## Cable"
   ]
  },
  {
   "cell_type": "code",
   "execution_count": 75,
   "metadata": {},
   "outputs": [
    {
     "name": "stdout",
     "output_type": "stream",
     "text": [
      "loading images\n",
      "loaded 224 images\n",
      "loading images\n",
      "loaded 224 images\n",
      "=> saving checkpoint: 0.4057 - acc: 81.8614\n",
      "Epoch [1/256], loss: 0.0063 - auc: 0.8871 |\n",
      " val_loss: 0.0222 - val_acc: 60.6667 - val_auc_msp: 0.8235 - val_auc_knn: 0.0000 - val_auc_knn_msp: 0.0000\n",
      "Epoch [2/256], loss: 0.0052 - auc: 0.9257 |\n",
      " val_loss: 0.0134 - val_acc: 66.6667 - val_auc_msp: 0.8148 - val_auc_knn: 0.0000 - val_auc_knn_msp: 0.0000\n",
      "=> saving checkpoint: 0.3136 - acc: 87.9416\n",
      "Epoch [3/256], loss: 0.0049 - auc: 0.9300 |\n",
      " val_loss: 0.0194 - val_acc: 66.0000 - val_auc_msp: 0.8368 - val_auc_knn: 0.0000 - val_auc_knn_msp: 0.0000\n",
      "=> saving checkpoint: 0.2805 - acc: 89.1304\n",
      "Epoch [4/256], loss: 0.0044 - auc: 0.9440 |\n",
      " val_loss: 0.0162 - val_acc: 66.0000 - val_auc_msp: 0.8473 - val_auc_knn: 0.0000 - val_auc_knn_msp: 0.0000\n",
      "Epoch [5/256], loss: 0.0044 - auc: 0.9429 |\n",
      " val_loss: 0.0122 - val_acc: 76.0000 - val_auc_msp: 0.8274 - val_auc_knn: 0.0000 - val_auc_knn_msp: 0.0000\n",
      "Epoch [6/256], loss: 0.0041 - auc: 0.9504 |\n",
      " val_loss: 0.0129 - val_acc: 75.3333 - val_auc_msp: 0.8343 - val_auc_knn: 0.0000 - val_auc_knn_msp: 0.0000\n",
      "Epoch [7/256], loss: 0.0040 - auc: 0.9555 |\n",
      " val_loss: 0.0169 - val_acc: 72.0000 - val_auc_msp: 0.8291 - val_auc_knn: 0.0000 - val_auc_knn_msp: 0.0000\n",
      "Epoch [8/256], loss: 0.0038 - auc: 0.9577 |\n",
      " val_loss: 0.0139 - val_acc: 72.0000 - val_auc_msp: 0.8298 - val_auc_knn: 0.0000 - val_auc_knn_msp: 0.0000\n",
      "=> saving checkpoint: 0.2462 - acc: 90.8967\n",
      "Epoch [9/256], loss: 0.0038 - auc: 0.9544 |\n",
      " val_loss: 0.0147 - val_acc: 66.0000 - val_auc_msp: 0.8555 - val_auc_knn: 0.0000 - val_auc_knn_msp: 0.0000\n",
      "Epoch [10/256], loss: 0.0038 - auc: 0.9541 |\n",
      " val_loss: 0.0146 - val_acc: 72.6667 - val_auc_msp: 0.8332 - val_auc_knn: 0.0000 - val_auc_knn_msp: 0.0000\n",
      "Epoch [11/256], loss: 0.0038 - auc: 0.9570 |\n",
      " val_loss: 0.0131 - val_acc: 75.3333 - val_auc_msp: 0.8338 - val_auc_knn: 0.0000 - val_auc_knn_msp: 0.0000\n",
      "Epoch [12/256], loss: 0.0035 - auc: 0.9639 |\n",
      " val_loss: 0.0180 - val_acc: 69.3333 - val_auc_msp: 0.8525 - val_auc_knn: 0.0000 - val_auc_knn_msp: 0.0000\n",
      "Epoch [13/256], loss: 0.0038 - auc: 0.9573 |\n",
      " val_loss: 0.0129 - val_acc: 73.3333 - val_auc_msp: 0.8128 - val_auc_knn: 0.0000 - val_auc_knn_msp: 0.0000\n",
      "=> saving checkpoint: 0.2245 - acc: 91.2024\n",
      "Epoch [14/256], loss: 0.0035 - auc: 0.9631 |\n",
      " val_loss: 0.0165 - val_acc: 72.6667 - val_auc_msp: 0.8628 - val_auc_knn: 0.0000 - val_auc_knn_msp: 0.0000\n",
      "Epoch [15/256], loss: 0.0034 - auc: 0.9645 |\n",
      " val_loss: 0.0139 - val_acc: 76.6667 - val_auc_msp: 0.8139 - val_auc_knn: 0.0000 - val_auc_knn_msp: 0.0000\n",
      "Epoch [16/256], loss: 0.0032 - auc: 0.9680 |\n",
      " val_loss: 0.0144 - val_acc: 77.3333 - val_auc_msp: 0.8368 - val_auc_knn: 0.0000 - val_auc_knn_msp: 0.0000\n",
      "Epoch [17/256], loss: 0.0032 - auc: 0.9676 |\n",
      " val_loss: 0.0183 - val_acc: 68.6667 - val_auc_msp: 0.8386 - val_auc_knn: 0.0000 - val_auc_knn_msp: 0.0000\n",
      "Epoch [18/256], loss: 0.0034 - auc: 0.9627 |\n",
      " val_loss: 0.0132 - val_acc: 74.0000 - val_auc_msp: 0.8257 - val_auc_knn: 0.0000 - val_auc_knn_msp: 0.0000\n",
      "Epoch [19/256], loss: 0.0031 - auc: 0.9685 |\n",
      " val_loss: 0.0126 - val_acc: 72.6667 - val_auc_msp: 0.8355 - val_auc_knn: 0.0000 - val_auc_knn_msp: 0.0000\n",
      "Epoch [20/256], loss: 0.0033 - auc: 0.9687 |\n",
      " val_loss: 0.0160 - val_acc: 71.3333 - val_auc_msp: 0.7987 - val_auc_knn: 0.0000 - val_auc_knn_msp: 0.0000\n",
      "Epoch [21/256], loss: 0.0043 - auc: 0.9524 |\n",
      " val_loss: 0.0918 - val_acc: 38.6667 - val_auc_msp: 0.7003 - val_auc_knn: 0.0000 - val_auc_knn_msp: 0.0000\n",
      " Step: [ 7/46], loss: 0.2032 - acc: 93.1641"
     ]
    }
   ],
   "source": [
    "args.data_type = 'cable'\n",
    "run(args)"
   ]
  },
  {
   "cell_type": "markdown",
   "metadata": {},
   "source": [
    "## Zipper"
   ]
  },
  {
   "cell_type": "code",
   "execution_count": null,
   "metadata": {},
   "outputs": [],
   "source": [
    "args.data_type = 'zipper'\n",
    "run(args)"
   ]
  }
 ],
 "metadata": {
  "kernelspec": {
   "display_name": "base",
   "language": "python",
   "name": "python3"
  },
  "language_info": {
   "codemirror_mode": {
    "name": "ipython",
    "version": 3
   },
   "file_extension": ".py",
   "mimetype": "text/x-python",
   "name": "python",
   "nbconvert_exporter": "python",
   "pygments_lexer": "ipython3",
   "version": "3.8.10"
  },
  "orig_nbformat": 4
 },
 "nbformat": 4,
 "nbformat_minor": 2
}
