{
 "cells": [
  {
   "cell_type": "markdown",
   "metadata": {},
   "source": [
    "# Setup"
   ]
  },
  {
   "cell_type": "code",
   "execution_count": null,
   "metadata": {},
   "outputs": [],
   "source": [
    "%pip install tensorflow tensorboard"
   ]
  },
  {
   "cell_type": "code",
   "execution_count": 61,
   "metadata": {},
   "outputs": [
    {
     "name": "stdout",
     "output_type": "stream",
     "text": [
      "Defaulting to user installation because normal site-packages is not writeable\n",
      "Collecting faiss-gpu\n",
      "  Downloading faiss_gpu-1.7.2-cp38-cp38-manylinux_2_17_x86_64.manylinux2014_x86_64.whl (85.5 MB)\n",
      "\u001b[K     |████████████████████████████████| 85.5 MB 6.0 MB/s eta 0:00:01\n",
      "\u001b[?25hInstalling collected packages: faiss-gpu\n",
      "Successfully installed faiss-gpu-1.7.2\n",
      "Note: you may need to restart the kernel to use updated packages.\n"
     ]
    }
   ],
   "source": [
    "%pip install faiss-gpu"
   ]
  },
  {
   "cell_type": "code",
   "execution_count": 2,
   "metadata": {},
   "outputs": [],
   "source": [
    "%load_ext autoreload\n",
    "%autoreload 2"
   ]
  },
  {
   "cell_type": "markdown",
   "metadata": {},
   "source": [
    "# Dataloader & Dataset Visualization"
   ]
  },
  {
   "cell_type": "code",
   "execution_count": 4,
   "metadata": {},
   "outputs": [],
   "source": [
    "import torch\n",
    "import matplotlib.pyplot as plt\n",
    "\n",
    "from copy import deepcopy\n",
    "from torchvision import transforms\n",
    "from torch.utils.data import DataLoader\n",
    "from dataset import MVTecAT, Repeat, CutPasteMVTecAD\n",
    "from cutpaste import CutPasteUnion, CutPaste3Way"
   ]
  },
  {
   "cell_type": "code",
   "execution_count": 5,
   "metadata": {},
   "outputs": [],
   "source": [
    "class Args:\n",
    "    def __init__(self) -> None:\n",
    "        self.min_scale = 1\n",
    "        self.size = 256\n",
    "        self.cutpate_type = CutPasteUnion\n",
    "        self.batch_size = 64\n",
    "        self.workers = 8\n",
    "        self.root_dir = '/sinergia/shabanza/datasets/mvtec'\n",
    "        self.head_layer = 2\n",
    "        self.data_type = 'zipper'\n",
    "        self.learninig_rate = 0.03\n",
    "        self.epochs = 256\n",
    "        self.pretrained = True\n",
    "        self.freeze_net = 20\n",
    "        self.optim = 'sgd'\n",
    "\n",
    "\n",
    "args = Args()"
   ]
  },
  {
   "cell_type": "markdown",
   "metadata": {},
   "source": [
    "## Train DataLoader"
   ]
  },
  {
   "cell_type": "markdown",
   "metadata": {},
   "source": [
    "Returns good + cutpaste Images ([0] is original, [1] is cutpasted)"
   ]
  },
  {
   "cell_type": "code",
   "execution_count": 6,
   "metadata": {},
   "outputs": [],
   "source": [
    "from copy import deepcopy\n",
    "\n",
    "train_transform = transforms.Compose([])\n",
    "train_transform.transforms.append(transforms.ColorJitter(brightness=0.1, contrast=0.1, saturation=0.1, hue=0.1))\n",
    "train_transform.transforms.append(transforms.Resize((args.size, args.size)))\n",
    "\n",
    "after_cutpaste_transform = transforms.Compose([])\n",
    "after_cutpaste_transform.transforms.append(transforms.ToTensor())\n",
    "after_cutpaste_transform.transforms.append(transforms.Normalize(mean=[0.485, 0.456, 0.406],\n",
    "                                                                std=[0.229, 0.224, 0.225]))\n",
    "\n",
    "train_cutpaste_transform = deepcopy(train_transform)\n",
    "train_cutpaste_transform.transforms.append(args.cutpate_type(transform=after_cutpaste_transform))\n",
    "train_transform.transforms.append(transforms.ToTensor())\n",
    "train_transform.transforms.append(transforms.Normalize(mean=[0.485, 0.456, 0.406],\n",
    "                                                                std=[0.229, 0.224, 0.225]))"
   ]
  },
  {
   "cell_type": "code",
   "execution_count": 7,
   "metadata": {},
   "outputs": [],
   "source": [
    "test_transform = transforms.Compose([])\n",
    "test_transform.transforms.append(transforms.Resize((args.size, args.size)))\n",
    "test_transform.transforms.append(transforms.ToTensor())\n",
    "test_transform.transforms.append(transforms.Normalize(mean=[0.485, 0.456, 0.406],\n",
    "                                                    std=[0.229, 0.224, 0.225]))"
   ]
  },
  {
   "cell_type": "code",
   "execution_count": 17,
   "metadata": {},
   "outputs": [
    {
     "name": "stdout",
     "output_type": "stream",
     "text": [
      "loading images\n",
      "loaded 240 images\n",
      "loading images\n",
      "loaded 240 images\n"
     ]
    }
   ],
   "source": [
    "size = int(args.size * (1/args.min_scale))\n",
    "\n",
    "train_ds_normal = MVTecAT(args.root_dir, args.data_type, transform=train_transform, size=size, mode=\"train\")\n",
    "train_ds_anomal = CutPasteMVTecAD(args.root_dir, args.data_type, transform=train_cutpaste_transform, size=size, mode=\"train\")\n",
    "train_ds = torch.utils.data.ConcatDataset([train_ds_normal, train_ds_anomal])\n",
    "\n",
    "train_dataloader = DataLoader(Repeat(train_ds, 3000), batch_size=args.batch_size, drop_last=True,\n",
    "                        shuffle=True, num_workers=args.workers,\n",
    "                        persistent_workers=True, pin_memory=True, prefetch_factor=5)\n",
    "\n",
    "train_dataloader_normal = DataLoader(Repeat(train_ds_normal, 3000), batch_size=args.batch_size, drop_last=True,\n",
    "                        shuffle=True, num_workers=args.workers,\n",
    "                        persistent_workers=True, pin_memory=True, prefetch_factor=5)"
   ]
  },
  {
   "cell_type": "markdown",
   "metadata": {},
   "source": [
    "## Test DataLoader\n",
    "\n",
    "Returns images + labels (good / bad)"
   ]
  },
  {
   "cell_type": "code",
   "execution_count": 9,
   "metadata": {},
   "outputs": [],
   "source": [
    "test_ds = MVTecAT(args.root_dir, args.data_type, args.size, transform=test_transform, mode=\"test\")\n",
    "test_dataloader = DataLoader(test_ds, batch_size=args.batch_size, shuffle=False, num_workers=0)"
   ]
  },
  {
   "cell_type": "code",
   "execution_count": 10,
   "metadata": {},
   "outputs": [],
   "source": [
    "def visualize(sample_images):\n",
    "    # Convert the tensor to numpy array\n",
    "    sample_images_np = sample_images.numpy()\n",
    "\n",
    "    # Reshape the tensor to [num_samples, 256, 256, 3] for visualization\n",
    "    sample_images_np = sample_images_np.transpose(0, 2, 3, 1)\n",
    "\n",
    "    # Plot the sample images\n",
    "    fig, axes = plt.subplots(1, sample_images_np.shape[0], figsize=(15, 3))\n",
    "    for i, ax in enumerate(axes):\n",
    "        ax.imshow(sample_images_np[i])\n",
    "        ax.axis('off')\n",
    "\n",
    "    plt.show()"
   ]
  },
  {
   "cell_type": "code",
   "execution_count": 11,
   "metadata": {},
   "outputs": [],
   "source": [
    "num_samples = 5\n",
    "sample_indices = torch.randperm(args.batch_size)[:num_samples]"
   ]
  },
  {
   "cell_type": "code",
   "execution_count": 18,
   "metadata": {},
   "outputs": [
    {
     "name": "stderr",
     "output_type": "stream",
     "text": [
      "Clipping input data to the valid range for imshow with RGB data ([0..1] for floats or [0..255] for integers).\n",
      "Clipping input data to the valid range for imshow with RGB data ([0..1] for floats or [0..255] for integers).\n",
      "Clipping input data to the valid range for imshow with RGB data ([0..1] for floats or [0..255] for integers).\n",
      "Clipping input data to the valid range for imshow with RGB data ([0..1] for floats or [0..255] for integers).\n",
      "Clipping input data to the valid range for imshow with RGB data ([0..1] for floats or [0..255] for integers).\n"
     ]
    },
    {
     "data": {
      "image/png": "[encoded data removed]",
      "text/plain": [
       "<Figure size 1500x300 with 5 Axes>"
      ]
     },
     "metadata": {},
     "output_type": "display_data"
    }
   ],
   "source": [
    "# visualize normal\n",
    "\n",
    "batch = next(iter(train_dataloader_normal))[0]\n",
    "sample_images = batch[sample_indices]\n",
    "visualize(sample_images)"
   ]
  },
  {
   "cell_type": "code",
   "execution_count": 19,
   "metadata": {},
   "outputs": [
    {
     "name": "stderr",
     "output_type": "stream",
     "text": [
      "Clipping input data to the valid range for imshow with RGB data ([0..1] for floats or [0..255] for integers).\n",
      "Clipping input data to the valid range for imshow with RGB data ([0..1] for floats or [0..255] for integers).\n",
      "Clipping input data to the valid range for imshow with RGB data ([0..1] for floats or [0..255] for integers).\n",
      "Clipping input data to the valid range for imshow with RGB data ([0..1] for floats or [0..255] for integers).\n",
      "Clipping input data to the valid range for imshow with RGB data ([0..1] for floats or [0..255] for integers).\n"
     ]
    },
    {
     "data": {
      "image/png": "[encoded data removed]",
      "text/plain": [
       "<Figure size 1500x300 with 5 Axes>"
      ]
     },
     "metadata": {},
     "output_type": "display_data"
    }
   ],
   "source": [
    "# visualize normal + cutpaste\n",
    "\n",
    "batch = next(iter(train_dataloader))[0]\n",
    "sample_images = batch[sample_indices]\n",
    "visualize(sample_images)"
   ]
  },
  {
   "cell_type": "code",
   "execution_count": 14,
   "metadata": {},
   "outputs": [
    {
     "name": "stderr",
     "output_type": "stream",
     "text": [
      "Clipping input data to the valid range for imshow with RGB data ([0..1] for floats or [0..255] for integers).\n",
      "Clipping input data to the valid range for imshow with RGB data ([0..1] for floats or [0..255] for integers).\n",
      "Clipping input data to the valid range for imshow with RGB data ([0..1] for floats or [0..255] for integers).\n",
      "Clipping input data to the valid range for imshow with RGB data ([0..1] for floats or [0..255] for integers).\n",
      "Clipping input data to the valid range for imshow with RGB data ([0..1] for floats or [0..255] for integers).\n"
     ]
    },
    {
     "data": {
      "image/png": "[encoded data removed]",
      "text/plain": [
       "<Figure size 1500x300 with 5 Axes>"
      ]
     },
     "metadata": {},
     "output_type": "display_data"
    }
   ],
   "source": [
    "# visualize test\n",
    "\n",
    "batch = next(iter(test_dataloader))[0]\n",
    "sample_images = batch[sample_indices]\n",
    "visualize(sample_images)"
   ]
  },
  {
   "cell_type": "markdown",
   "metadata": {},
   "source": [
    "# Train"
   ]
  },
  {
   "cell_type": "code",
   "execution_count": 39,
   "metadata": {},
   "outputs": [],
   "source": [
    "import sys\n",
    "import numpy as np\n",
    "import torch.optim as optim\n",
    "from sklearn import metrics\n",
    "import time\n",
    "from torch.optim.lr_scheduler import CosineAnnealingWarmRestarts\n",
    "from model import ProjectionNet"
   ]
  },
  {
   "cell_type": "code",
   "execution_count": 40,
   "metadata": {},
   "outputs": [],
   "source": [
    "def train(model, loader, loss_fn, optimizer, device):\n",
    "    \"\"\" training one epoch and calculate loss and metrics \"\"\"\n",
    "    # Training model\n",
    "    model.train()\n",
    "    losses = 0.0\n",
    "    steps = len(loader)\n",
    "    correct = 0.0\n",
    "    total = 0.0\n",
    "    which_class = 1\n",
    "    preds = []\n",
    "    targs = []\n",
    "    softmax = torch.nn.Softmax(dim=1)\n",
    "    for i, (inputs, targets) in enumerate(loader):\n",
    "        # Place to gpu\n",
    "        inputs = inputs.to(device)\n",
    "        targets = targets.to(torch.int64).to(device)\n",
    "\n",
    "        # Forward pass\n",
    "        outputs, _ = model(inputs)\n",
    "        \n",
    "        # Calculate loss\n",
    "        loss = loss_fn(outputs, targets.long())\n",
    "        losses += loss\n",
    "\n",
    "        # Backpropagation and update weights\n",
    "        optimizer.zero_grad()\n",
    "        loss.backward()\n",
    "        optimizer.step()\n",
    "\n",
    "\n",
    "        # Calculate metrics\n",
    "        _, predicted = outputs.max(1)\n",
    "        correct += predicted.eq(targets).sum().item()\n",
    "        total += targets.size(0)\n",
    "\n",
    "        probs = softmax(outputs).squeeze()\n",
    "        preds.append(probs[:, which_class].detach().cpu())\n",
    "        targs.append((targets.cpu()==which_class)*1.0)\n",
    "\n",
    "        # report\n",
    "        sys.stdout.flush()\n",
    "        sys.stdout.write('\\r Step: [%2d/%2d], loss: %.4f - acc: %.4f'\n",
    "                          % (i, steps, targets.size(0)*losses.item()/total, 100.0*correct/total))\n",
    "    sys.stdout.write ('\\r')\n",
    "\n",
    "    preds = torch.cat(preds).numpy()\n",
    "    targs = torch.cat(targs).numpy()\n",
    "    fpr, tpr, thresholds = metrics.roc_curve(targs, preds)\n",
    "    train_auc = metrics.auc(fpr, tpr)\n",
    "\n",
    "    return train_auc, losses.item()/total, 100.0*correct/total\n"
   ]
  },
  {
   "cell_type": "code",
   "execution_count": 41,
   "metadata": {},
   "outputs": [],
   "source": [
    "device = 'cuda' if torch.cuda.is_available() else 'cpu'\n",
    "\n",
    "\n",
    "head_layers = [512]*args.head_layer+[128]\n",
    "num_classes = 2 if args.cutpate_type is not CutPaste3Way else 3\n",
    "model = ProjectionNet(pretrained=args.pretrained, head_layers=head_layers, num_classes=num_classes)\n",
    "model.to(device)\n",
    "\n",
    "if args.freeze_net > 0 and args.pretrained:\n",
    "    model.freeze_resnet()"
   ]
  },
  {
   "cell_type": "code",
   "execution_count": 42,
   "metadata": {},
   "outputs": [],
   "source": [
    "weight_decay = 0.00003\n",
    "momentum = 0.9\n",
    "\n",
    "\n",
    "loss_fn = torch.nn.CrossEntropyLoss()\n",
    "if args.optim == \"sgd\":\n",
    "    optimizer = optim.SGD(model.parameters(), lr=args.learninig_rate, momentum=momentum,  weight_decay=weight_decay)\n",
    "    scheduler = CosineAnnealingWarmRestarts(optimizer, args.epochs)\n",
    "    #scheduler = None\n",
    "elif args.optim == \"adam\":\n",
    "    optimizer = optim.Adam(model.parameters(), lr=args.learninig_rate, weight_decay=weight_decay)\n",
    "    scheduler = None"
   ]
  },
  {
   "cell_type": "markdown",
   "metadata": {},
   "source": [
    "# Evaluate"
   ]
  },
  {
   "cell_type": "code",
   "execution_count": 43,
   "metadata": {},
   "outputs": [],
   "source": [
    "import faiss\n",
    "from sklearn.metrics import roc_auc_score\n",
    "\n",
    "def knn_score(train_set, test_set, n_neighbours=2):\n",
    "    \"\"\"\n",
    "    Calculates the KNN distance\n",
    "    \"\"\"\n",
    "    index = faiss.IndexFlatL2(train_set.shape[1])\n",
    "    index.add(train_set)\n",
    "    D, _ = index.search(test_set, n_neighbours)\n",
    "    return np.sum(D, axis=1)\n",
    "\n",
    "def knn_evaluate(model, test_loader, train_loader_normal, loss_fn, device):\n",
    "    \"\"\" Evaluate trained weights using calculate loss and metrics \"\"\"\n",
    "    model.eval ()\n",
    "    softmax = torch.nn.Softmax(dim=1)\n",
    "    test_feature_space = []\n",
    "    test_labels = []\n",
    "    train_feature_space = []\n",
    "    with torch.no_grad ():\n",
    "        for inputs, targets in test_loader:\n",
    "            '''\n",
    "            activation = {}\n",
    "            def get_activation(name):\n",
    "                def hook(model, input, output):\n",
    "                    activation[name] = output.detach()\n",
    "                return hook\n",
    "            m.model.heads.head.register_forward_hook(get_activation('feature'))\n",
    "            '''\n",
    "            inputs = inputs.to(device)\n",
    "            targets = targets.to(torch.int64).to(device)\n",
    "            outputs, features = model (inputs)\n",
    "            test_feature_space.append(features)\n",
    "            test_labels.append(targets.detach().cpu())\n",
    "\n",
    "        for inputs, targets in train_loader_normal:\n",
    "            '''\n",
    "            activation = {}\n",
    "            def get_activation(name):\n",
    "                def hook(model, input, output):\n",
    "                    activation[name] = output.detach()\n",
    "                return hook\n",
    "            m.model.heads.head.register_forward_hook(get_activation('feature'))\n",
    "            '''\n",
    "            inputs = inputs.to(device)\n",
    "            targets = targets.to(torch.int64).to(device)\n",
    "            outputs, features = model (inputs)\n",
    "            train_feature_space.append(features)\n",
    "\n",
    "    test_labels = torch.cat(test_labels, dim=0).cpu().numpy()\n",
    "    test_feature_space = torch.cat(test_feature_space, dim=0).contiguous().cpu().numpy()\n",
    "    train_feature_space = torch.cat(train_feature_space, dim=0).contiguous().cpu().numpy()\n",
    "\n",
    "    distances = knn_score(train_feature_space, test_feature_space)\n",
    "    auc = roc_auc_score(test_labels, distances)\n",
    "    return auc, distances, test_labels"
   ]
  },
  {
   "cell_type": "code",
   "execution_count": 44,
   "metadata": {},
   "outputs": [],
   "source": [
    "def evaluate(model, loader, loss_fn, device):\n",
    "    \"\"\" Evaluate trained weights using calculate loss and metrics \"\"\"\n",
    "    model.eval ()\n",
    "    losses = 0.0\n",
    "    steps = len(loader)\n",
    "    correct = 0.0\n",
    "    total = 0.0\n",
    "    which_class = 1\n",
    "    preds = []\n",
    "    targs = []\n",
    "    softmax = torch.nn.Softmax(dim=1)\n",
    "\n",
    "    with torch.no_grad ():\n",
    "        for inputs, targets in loader:\n",
    "            inputs = inputs.to(device)\n",
    "            targets = targets.to(torch.int64).to(device)\n",
    "\n",
    "            outputs, _ = model(inputs)\n",
    "            loss = loss_fn(outputs, targets)\n",
    "            losses += loss\n",
    "\n",
    "            _, predicted = outputs.max(1)\n",
    "            correct += predicted.eq(targets).sum().item()\n",
    "            total += targets.size(0)\n",
    "\n",
    "            probs = softmax(outputs).squeeze()\n",
    "            preds.append(probs[:, which_class].detach().cpu())\n",
    "            targs.append((targets.cpu()==which_class)*1.0)\n",
    "\n",
    "    preds = torch.cat(preds).numpy()\n",
    "    targs = torch.cat(targs).numpy()\n",
    "    fpr, tpr, thresholds = metrics.roc_curve(targs, preds)\n",
    "    eval_auc = metrics.auc(fpr, tpr)\n",
    "\n",
    "    return eval_auc, losses.item()/total, 100.0*correct/total, preds, targs"
   ]
  },
  {
   "cell_type": "markdown",
   "metadata": {},
   "source": [
    "# Run"
   ]
  },
  {
   "cell_type": "code",
   "execution_count": 45,
   "metadata": {},
   "outputs": [],
   "source": [
    "def fit(model, train_dl, valid_dl, train_loader_normal, loss_fn, optimizer, num_epochs, device, scheduler=None):\n",
    "    \"\"\" fiting model to dataloaders, saving best weights and showing results \"\"\"\n",
    "    losses, val_losses, accs, val_accs, auces, val_auces, val_auces_knn, val_auces_msp_knn = [], [], [], [], [], [], [], []\n",
    "    best_auc = 0.0\n",
    "\n",
    "    since = time.time ()\n",
    "    for epoch in range (num_epochs):\n",
    "        # if epoch == args.freeze_net:\n",
    "        #     model.unfreeze()\n",
    "        train_auc, loss, acc = train(model, train_dl, loss_fn, optimizer, device)\n",
    "        val_auc, val_loss, val_acc, preds, targs = evaluate(model, valid_dl, loss_fn, device)\n",
    "        val_auc_knn, distances, _ = knn_evaluate(model, valid_dl, train_loader_normal, loss_fn, device)\n",
    "\n",
    "        out = preds + (distances / np.linalg.norm(distances))\n",
    "        fpr, tpr, thresholds = metrics.roc_curve(targs, out)\n",
    "        msp_knn_auc = metrics.auc(fpr, tpr)\n",
    "\n",
    "        losses.append(loss)\n",
    "        accs.append(acc)\n",
    "        val_losses.append(val_loss)\n",
    "        val_accs.append(val_acc)\n",
    "        auces.append(train_auc)\n",
    "        val_auces.append(val_auc)\n",
    "        val_auces_knn.append(val_auc_knn)\n",
    "        val_auces_msp_knn.append(msp_knn_auc)\n",
    "\n",
    "        # learning rate scheduler\n",
    "        if scheduler is not None:\n",
    "            scheduler.step(val_auc)\n",
    "\n",
    "        # save weights if improved\n",
    "        if val_auc > best_auc:\n",
    "            checkpoint = {'state_dict': model.state_dict (), 'optimizer': optimizer.state_dict ()}\n",
    "            # save_checkpoint(checkpoint, checkpoint_path)\n",
    "            best_auc = val_auc\n",
    "\n",
    "        print ('Epoch [{}/{}], loss: {:.4f} - auc: {:.4f} |\\n val_loss: {:.4f} - val_acc: {:.4f} - val_auc_msp: {:.4f} - val_auc_knn: {:.4f} - val_auc_knn_msp: {:.4f}'\n",
    "               .format (epoch + 1, num_epochs, loss, train_auc, val_loss, val_acc, val_auc, val_auc_knn, msp_knn_auc))\n",
    "\n",
    "    period = time.time () - since\n",
    "    print ('Training complete in {:.0f}m {:.0f}s'.format (period // 60, period % 60))\n",
    "\n",
    "    return dict(loss=losses, val_loss=val_losses, acc=accs, val_acc=val_accs, auces=auces, val_auces=val_auces, val_auces_knn=val_auces_knn, val_auces_msp_knn=val_auces_msp_knn)\n"
   ]
  },
  {
   "cell_type": "code",
   "execution_count": 46,
   "metadata": {},
   "outputs": [],
   "source": [
    "def plot_metrics(val_auc_knn, val_auc, val_auc_knn_msp):\n",
    "    \"\"\" ploting each of metric in one line \"\"\"\n",
    "\n",
    "    # fig, ax = plt.subplots (1, 1, figsize = (20, 5))\n",
    "    plt.plot(range(len(val_auc_knn)), val_auc_knn, 'b-', label = 'Val_AUC_KNN')\n",
    "    plt.plot(range(len(val_auc)), val_auc, 'r-', label = 'Val_AUC_MSP')\n",
    "    plt.plot(range(len(val_auc_knn_msp)), val_auc_knn_msp, 'g-', label = 'Val_AUC_KNN_MSP')\n",
    "    plt.title('AUC')\n",
    "    plt.legend()\n",
    "    plt.show()"
   ]
  },
  {
   "cell_type": "code",
   "execution_count": 47,
   "metadata": {},
   "outputs": [
    {
     "name": "stdout",
     "output_type": "stream",
     "text": [
      "Epoch [1/256], loss: 0.0083 - auc: 0.7753 |\n",
      " val_loss: 0.0072 - val_acc: 79.4702 - val_auc_msp: 0.8451 - val_auc_knn: 0.8761 - val_auc_knn_msp: 0.8506\n",
      "Epoch [2/256], loss: 0.0070 - auc: 0.8298 |\n",
      " val_loss: 0.0059 - val_acc: 84.7682 - val_auc_msp: 0.9199 - val_auc_knn: 0.8553 - val_auc_knn_msp: 0.9252\n",
      "Epoch [3/256], loss: 0.0071 - auc: 0.8237 |\n",
      " val_loss: 0.0066 - val_acc: 85.4305 - val_auc_msp: 0.8989 - val_auc_knn: 0.8658 - val_auc_knn_msp: 0.9049\n",
      "Epoch [4/256], loss: 0.0068 - auc: 0.8303 |\n",
      " val_loss: 0.0065 - val_acc: 83.4437 - val_auc_msp: 0.9168 - val_auc_knn: 0.8590 - val_auc_knn_msp: 0.9212\n",
      "Epoch [5/256], loss: 0.0067 - auc: 0.8358 |\n",
      " val_loss: 0.0083 - val_acc: 76.8212 - val_auc_msp: 0.8808 - val_auc_knn: 0.8637 - val_auc_knn_msp: 0.8931\n",
      "Epoch [6/256], loss: 0.0067 - auc: 0.8287 |\n",
      " val_loss: 0.0068 - val_acc: 84.7682 - val_auc_msp: 0.9149 - val_auc_knn: 0.8592 - val_auc_knn_msp: 0.9215\n",
      "Epoch [7/256], loss: 0.0064 - auc: 0.8512 |\n",
      " val_loss: 0.0074 - val_acc: 80.7947 - val_auc_msp: 0.9199 - val_auc_knn: 0.8595 - val_auc_knn_msp: 0.9217\n",
      "Epoch [8/256], loss: 0.0064 - auc: 0.8371 |\n",
      " val_loss: 0.0072 - val_acc: 82.1192 - val_auc_msp: 0.8997 - val_auc_knn: 0.8644 - val_auc_knn_msp: 0.9076\n",
      "Epoch [9/256], loss: 0.0063 - auc: 0.8532 |\n",
      " val_loss: 0.0057 - val_acc: 88.0795 - val_auc_msp: 0.9320 - val_auc_knn: 0.8524 - val_auc_knn_msp: 0.9357\n",
      "Epoch [10/256], loss: 0.0062 - auc: 0.8499 |\n",
      " val_loss: 0.0061 - val_acc: 86.7550 - val_auc_msp: 0.9173 - val_auc_knn: 0.8648 - val_auc_knn_msp: 0.9257\n",
      "Epoch [11/256], loss: 0.0060 - auc: 0.8634 |\n",
      " val_loss: 0.0067 - val_acc: 88.0795 - val_auc_msp: 0.9183 - val_auc_knn: 0.8666 - val_auc_knn_msp: 0.9210\n",
      "Epoch [12/256], loss: 0.0059 - auc: 0.8666 |\n",
      " val_loss: 0.0057 - val_acc: 86.7550 - val_auc_msp: 0.9391 - val_auc_knn: 0.8540 - val_auc_knn_msp: 0.9425\n",
      " Step: [45/46], loss: 0.4066 - acc: 81.9293\r"
     ]
    }
   ],
   "source": [
    "history = fit(\n",
    "    model=model, \n",
    "    train_dl=train_dataloader, \n",
    "    valid_dl=test_dataloader, \n",
    "    train_loader_normal=train_dataloader_normal, \n",
    "    loss_fn=loss_fn, optimizer=optimizer, \n",
    "    num_epochs=args.epochs, device=device, \n",
    "    scheduler=scheduler\n",
    ")\n",
    "plot_metrics(history[\"val_auces_knn\"], history[\"val_auces\"], history[\"val_auces_msp_knn\"])"
   ]
  },
  {
   "cell_type": "code",
   "execution_count": null,
   "metadata": {},
   "outputs": [],
   "source": []
  }
 ],
 "metadata": {
  "kernelspec": {
   "display_name": "base",
   "language": "python",
   "name": "python3"
  },
  "language_info": {
   "codemirror_mode": {
    "name": "ipython",
    "version": 3
   },
   "file_extension": ".py",
   "mimetype": "text/x-python",
   "name": "python",
   "nbconvert_exporter": "python",
   "pygments_lexer": "ipython3",
   "version": "3.8.10"
  },
  "orig_nbformat": 4
 },
 "nbformat": 4,
 "nbformat_minor": 2
}
